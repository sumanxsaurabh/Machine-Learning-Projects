{
 "cells": [
  {
   "cell_type": "code",
   "execution_count": 1,
   "metadata": {},
   "outputs": [],
   "source": [
    "import pandas as pd\n",
    "import numpy as np\n",
    "import matplotlib.pyplot as plt\n",
    "import seaborn as sns\n",
    "import xgboost as xgb\n",
    "%matplotlib inline\n",
    "from sklearn.preprocessing import LabelEncoder"
   ]
  },
  {
   "cell_type": "code",
   "execution_count": 2,
   "metadata": {},
   "outputs": [],
   "source": [
    "df = pd.read_csv('LoanStats3a.csv',low_memory=False)"
   ]
  },
  {
   "cell_type": "code",
   "execution_count": 3,
   "metadata": {},
   "outputs": [
    {
     "data": {
      "text/plain": [
       "(42538, 144)"
      ]
     },
     "execution_count": 3,
     "metadata": {},
     "output_type": "execute_result"
    }
   ],
   "source": [
    "df.shape"
   ]
  },
  {
   "cell_type": "code",
   "execution_count": 4,
   "metadata": {},
   "outputs": [
    {
     "data": {
      "text/html": [
       "<div>\n",
       "<style scoped>\n",
       "    .dataframe tbody tr th:only-of-type {\n",
       "        vertical-align: middle;\n",
       "    }\n",
       "\n",
       "    .dataframe tbody tr th {\n",
       "        vertical-align: top;\n",
       "    }\n",
       "\n",
       "    .dataframe thead th {\n",
       "        text-align: right;\n",
       "    }\n",
       "</style>\n",
       "<table border=\"1\" class=\"dataframe\">\n",
       "  <thead>\n",
       "    <tr style=\"text-align: right;\">\n",
       "      <th></th>\n",
       "      <th>id</th>\n",
       "      <th>member_id</th>\n",
       "      <th>loan_amnt</th>\n",
       "      <th>funded_amnt</th>\n",
       "      <th>funded_amnt_inv</th>\n",
       "      <th>term</th>\n",
       "      <th>int_rate</th>\n",
       "      <th>installment</th>\n",
       "      <th>grade</th>\n",
       "      <th>sub_grade</th>\n",
       "      <th>...</th>\n",
       "      <th>orig_projected_additional_accrued_interest</th>\n",
       "      <th>hardship_payoff_balance_amount</th>\n",
       "      <th>hardship_last_payment_amount</th>\n",
       "      <th>debt_settlement_flag</th>\n",
       "      <th>debt_settlement_flag_date</th>\n",
       "      <th>settlement_status</th>\n",
       "      <th>settlement_date</th>\n",
       "      <th>settlement_amount</th>\n",
       "      <th>settlement_percentage</th>\n",
       "      <th>settlement_term</th>\n",
       "    </tr>\n",
       "  </thead>\n",
       "  <tbody>\n",
       "    <tr>\n",
       "      <th>0</th>\n",
       "      <td>NaN</td>\n",
       "      <td>NaN</td>\n",
       "      <td>5000.0</td>\n",
       "      <td>5000.0</td>\n",
       "      <td>4975.0</td>\n",
       "      <td>36 months</td>\n",
       "      <td>10.65%</td>\n",
       "      <td>162.87</td>\n",
       "      <td>B</td>\n",
       "      <td>B2</td>\n",
       "      <td>...</td>\n",
       "      <td>NaN</td>\n",
       "      <td>NaN</td>\n",
       "      <td>NaN</td>\n",
       "      <td>N</td>\n",
       "      <td>NaN</td>\n",
       "      <td>NaN</td>\n",
       "      <td>NaN</td>\n",
       "      <td>NaN</td>\n",
       "      <td>NaN</td>\n",
       "      <td>NaN</td>\n",
       "    </tr>\n",
       "    <tr>\n",
       "      <th>1</th>\n",
       "      <td>NaN</td>\n",
       "      <td>NaN</td>\n",
       "      <td>2500.0</td>\n",
       "      <td>2500.0</td>\n",
       "      <td>2500.0</td>\n",
       "      <td>60 months</td>\n",
       "      <td>15.27%</td>\n",
       "      <td>59.83</td>\n",
       "      <td>C</td>\n",
       "      <td>C4</td>\n",
       "      <td>...</td>\n",
       "      <td>NaN</td>\n",
       "      <td>NaN</td>\n",
       "      <td>NaN</td>\n",
       "      <td>N</td>\n",
       "      <td>NaN</td>\n",
       "      <td>NaN</td>\n",
       "      <td>NaN</td>\n",
       "      <td>NaN</td>\n",
       "      <td>NaN</td>\n",
       "      <td>NaN</td>\n",
       "    </tr>\n",
       "    <tr>\n",
       "      <th>2</th>\n",
       "      <td>NaN</td>\n",
       "      <td>NaN</td>\n",
       "      <td>2400.0</td>\n",
       "      <td>2400.0</td>\n",
       "      <td>2400.0</td>\n",
       "      <td>36 months</td>\n",
       "      <td>15.96%</td>\n",
       "      <td>84.33</td>\n",
       "      <td>C</td>\n",
       "      <td>C5</td>\n",
       "      <td>...</td>\n",
       "      <td>NaN</td>\n",
       "      <td>NaN</td>\n",
       "      <td>NaN</td>\n",
       "      <td>N</td>\n",
       "      <td>NaN</td>\n",
       "      <td>NaN</td>\n",
       "      <td>NaN</td>\n",
       "      <td>NaN</td>\n",
       "      <td>NaN</td>\n",
       "      <td>NaN</td>\n",
       "    </tr>\n",
       "    <tr>\n",
       "      <th>3</th>\n",
       "      <td>NaN</td>\n",
       "      <td>NaN</td>\n",
       "      <td>10000.0</td>\n",
       "      <td>10000.0</td>\n",
       "      <td>10000.0</td>\n",
       "      <td>36 months</td>\n",
       "      <td>13.49%</td>\n",
       "      <td>339.31</td>\n",
       "      <td>C</td>\n",
       "      <td>C1</td>\n",
       "      <td>...</td>\n",
       "      <td>NaN</td>\n",
       "      <td>NaN</td>\n",
       "      <td>NaN</td>\n",
       "      <td>N</td>\n",
       "      <td>NaN</td>\n",
       "      <td>NaN</td>\n",
       "      <td>NaN</td>\n",
       "      <td>NaN</td>\n",
       "      <td>NaN</td>\n",
       "      <td>NaN</td>\n",
       "    </tr>\n",
       "    <tr>\n",
       "      <th>4</th>\n",
       "      <td>NaN</td>\n",
       "      <td>NaN</td>\n",
       "      <td>3000.0</td>\n",
       "      <td>3000.0</td>\n",
       "      <td>3000.0</td>\n",
       "      <td>60 months</td>\n",
       "      <td>12.69%</td>\n",
       "      <td>67.79</td>\n",
       "      <td>B</td>\n",
       "      <td>B5</td>\n",
       "      <td>...</td>\n",
       "      <td>NaN</td>\n",
       "      <td>NaN</td>\n",
       "      <td>NaN</td>\n",
       "      <td>N</td>\n",
       "      <td>NaN</td>\n",
       "      <td>NaN</td>\n",
       "      <td>NaN</td>\n",
       "      <td>NaN</td>\n",
       "      <td>NaN</td>\n",
       "      <td>NaN</td>\n",
       "    </tr>\n",
       "  </tbody>\n",
       "</table>\n",
       "<p>5 rows × 144 columns</p>\n",
       "</div>"
      ],
      "text/plain": [
       "    id  member_id  loan_amnt  funded_amnt  funded_amnt_inv        term  \\\n",
       "0  NaN        NaN     5000.0       5000.0           4975.0   36 months   \n",
       "1  NaN        NaN     2500.0       2500.0           2500.0   60 months   \n",
       "2  NaN        NaN     2400.0       2400.0           2400.0   36 months   \n",
       "3  NaN        NaN    10000.0      10000.0          10000.0   36 months   \n",
       "4  NaN        NaN     3000.0       3000.0           3000.0   60 months   \n",
       "\n",
       "  int_rate  installment grade sub_grade  ...  \\\n",
       "0   10.65%       162.87     B        B2  ...   \n",
       "1   15.27%        59.83     C        C4  ...   \n",
       "2   15.96%        84.33     C        C5  ...   \n",
       "3   13.49%       339.31     C        C1  ...   \n",
       "4   12.69%        67.79     B        B5  ...   \n",
       "\n",
       "  orig_projected_additional_accrued_interest hardship_payoff_balance_amount  \\\n",
       "0                                        NaN                            NaN   \n",
       "1                                        NaN                            NaN   \n",
       "2                                        NaN                            NaN   \n",
       "3                                        NaN                            NaN   \n",
       "4                                        NaN                            NaN   \n",
       "\n",
       "  hardship_last_payment_amount  debt_settlement_flag  \\\n",
       "0                          NaN                     N   \n",
       "1                          NaN                     N   \n",
       "2                          NaN                     N   \n",
       "3                          NaN                     N   \n",
       "4                          NaN                     N   \n",
       "\n",
       "  debt_settlement_flag_date settlement_status settlement_date  \\\n",
       "0                       NaN               NaN             NaN   \n",
       "1                       NaN               NaN             NaN   \n",
       "2                       NaN               NaN             NaN   \n",
       "3                       NaN               NaN             NaN   \n",
       "4                       NaN               NaN             NaN   \n",
       "\n",
       "  settlement_amount  settlement_percentage settlement_term  \n",
       "0               NaN                    NaN             NaN  \n",
       "1               NaN                    NaN             NaN  \n",
       "2               NaN                    NaN             NaN  \n",
       "3               NaN                    NaN             NaN  \n",
       "4               NaN                    NaN             NaN  \n",
       "\n",
       "[5 rows x 144 columns]"
      ]
     },
     "execution_count": 4,
     "metadata": {},
     "output_type": "execute_result"
    }
   ],
   "source": [
    "df.head()"
   ]
  },
  {
   "cell_type": "code",
   "execution_count": 5,
   "metadata": {},
   "outputs": [
    {
     "data": {
      "text/plain": [
       "<AxesSubplot:>"
      ]
     },
     "execution_count": 5,
     "metadata": {},
     "output_type": "execute_result"
    },
    {
     "data": {
      "image/png": "[encoded data removed]",
      "text/plain": [
       "<Figure size 432x288 with 1 Axes>"
      ]
     },
     "metadata": {
      "needs_background": "light"
     },
     "output_type": "display_data"
    }
   ],
   "source": [
    "sns.heatmap(df.isnull(),yticklabels=False,cbar=False,cmap='viridis')"
   ]
  },
  {
   "cell_type": "code",
   "execution_count": 6,
   "metadata": {},
   "outputs": [
    {
     "data": {
      "text/plain": [
       "Fully Paid                                             34116\n",
       "Charged Off                                             5670\n",
       "Does not meet the credit policy. Status:Fully Paid      1988\n",
       "Does not meet the credit policy. Status:Charged Off      761\n",
       "Name: loan_status, dtype: int64"
      ]
     },
     "execution_count": 6,
     "metadata": {},
     "output_type": "execute_result"
    }
   ],
   "source": [
    "#Response/Target Variable \n",
    "df.loan_status.value_counts()"
   ]
  },
  {
   "cell_type": "code",
   "execution_count": 7,
   "metadata": {},
   "outputs": [],
   "source": [
    "#Considering only Fully Paid, Default, Charged Off Loans.\n",
    "df[\"loan_status\"] = np.where(df[\"loan_status\"].str.contains(\"Fully\"), 0, 1)"
   ]
  },
  {
   "cell_type": "code",
   "execution_count": 8,
   "metadata": {},
   "outputs": [],
   "source": [
    "# Changing employee length to numerical.\n",
    "df['emp_length'].fillna(\"< 1 year\",inplace= True)\n",
    "dict_emp_length = {'10+ years':10, '6 years':6, '4 years':4, '< 1 year':0.5, '2 years':2,'9 years':9, '5 years':5, '3 years':3, '7 years':7, '1 year':1,'8 years':8}\n",
    "df['emp_length'].replace(dict_emp_length, inplace=True)"
   ]
  },
  {
   "cell_type": "code",
   "execution_count": 9,
   "metadata": {},
   "outputs": [
    {
     "data": {
      "text/plain": [
       "34030.4"
      ]
     },
     "execution_count": 9,
     "metadata": {},
     "output_type": "execute_result"
    }
   ],
   "source": [
    "#set fraction\n",
    "frac = 42538*0.80 #80% of max columns.\n",
    "frac"
   ]
  },
  {
   "cell_type": "code",
   "execution_count": 10,
   "metadata": {},
   "outputs": [
    {
     "data": {
      "text/plain": [
       "Index(['id', 'member_id', 'url', 'mths_since_last_record', 'next_pymnt_d',\n",
       "       'mths_since_last_major_derog', 'annual_inc_joint', 'dti_joint',\n",
       "       'verification_status_joint', 'tot_coll_amt', 'tot_cur_bal',\n",
       "       'open_acc_6m', 'open_act_il', 'open_il_12m', 'open_il_24m',\n",
       "       'mths_since_rcnt_il', 'total_bal_il', 'il_util', 'open_rv_12m',\n",
       "       'open_rv_24m', 'max_bal_bc', 'all_util', 'total_rev_hi_lim', 'inq_fi',\n",
       "       'total_cu_tl', 'inq_last_12m', 'acc_open_past_24mths', 'avg_cur_bal',\n",
       "       'bc_open_to_buy', 'bc_util', 'mo_sin_old_il_acct',\n",
       "       'mo_sin_old_rev_tl_op', 'mo_sin_rcnt_rev_tl_op', 'mo_sin_rcnt_tl',\n",
       "       'mort_acc', 'mths_since_recent_bc', 'mths_since_recent_bc_dlq',\n",
       "       'mths_since_recent_inq', 'mths_since_recent_revol_delinq',\n",
       "       'num_accts_ever_120_pd', 'num_actv_bc_tl', 'num_actv_rev_tl',\n",
       "       'num_bc_sats', 'num_bc_tl', 'num_il_tl', 'num_op_rev_tl',\n",
       "       'num_rev_accts', 'num_rev_tl_bal_gt_0', 'num_sats', 'num_tl_120dpd_2m',\n",
       "       'num_tl_30dpd', 'num_tl_90g_dpd_24m', 'num_tl_op_past_12m',\n",
       "       'pct_tl_nvr_dlq', 'percent_bc_gt_75', 'tot_hi_cred_lim',\n",
       "       'total_bal_ex_mort', 'total_bc_limit', 'total_il_high_credit_limit',\n",
       "       'revol_bal_joint', 'sec_app_earliest_cr_line', 'sec_app_inq_last_6mths',\n",
       "       'sec_app_mort_acc', 'sec_app_open_acc', 'sec_app_revol_util',\n",
       "       'sec_app_open_act_il', 'sec_app_num_rev_accts',\n",
       "       'sec_app_chargeoff_within_12_mths',\n",
       "       'sec_app_collections_12_mths_ex_med',\n",
       "       'sec_app_mths_since_last_major_derog', 'hardship_type',\n",
       "       'hardship_reason', 'hardship_status', 'deferral_term',\n",
       "       'hardship_amount', 'hardship_start_date', 'hardship_end_date',\n",
       "       'payment_plan_start_date', 'hardship_length', 'hardship_dpd',\n",
       "       'hardship_loan_status', 'orig_projected_additional_accrued_interest',\n",
       "       'hardship_payoff_balance_amount', 'hardship_last_payment_amount',\n",
       "       'debt_settlement_flag_date', 'settlement_status', 'settlement_date',\n",
       "       'settlement_amount', 'settlement_percentage', 'settlement_term'],\n",
       "      dtype='object')"
      ]
     },
     "execution_count": 10,
     "metadata": {},
     "output_type": "execute_result"
    }
   ],
   "source": [
    "df.columns[df.isnull().sum()>=frac]"
   ]
  },
  {
   "cell_type": "code",
   "execution_count": null,
   "metadata": {},
   "outputs": [],
   "source": [
    "#df.drop(df.columns[df.isnull().sum()>=34030],axis = 1,inplace=True)"
   ]
  },
  {
   "cell_type": "code",
   "execution_count": 11,
   "metadata": {},
   "outputs": [
    {
     "name": "stdout",
     "output_type": "stream",
     "text": [
      "The new dataframe has 54 columns and lost 90 after dropping future leaks\n"
     ]
    }
   ],
   "source": [
    "leak_cols = ['id', 'member_id', 'url', 'mths_since_last_record', 'next_pymnt_d',\n",
    "       'mths_since_last_major_derog', 'annual_inc_joint', 'dti_joint',\n",
    "       'verification_status_joint', 'tot_coll_amt', 'tot_cur_bal',\n",
    "       'open_acc_6m', 'open_act_il', 'open_il_12m', 'open_il_24m',\n",
    "       'mths_since_rcnt_il', 'total_bal_il', 'il_util', 'open_rv_12m',\n",
    "       'open_rv_24m', 'max_bal_bc', 'all_util', 'total_rev_hi_lim', 'inq_fi',\n",
    "       'total_cu_tl', 'inq_last_12m', 'acc_open_past_24mths', 'avg_cur_bal',\n",
    "       'bc_open_to_buy', 'bc_util', 'mo_sin_old_il_acct',\n",
    "       'mo_sin_old_rev_tl_op', 'mo_sin_rcnt_rev_tl_op', 'mo_sin_rcnt_tl',\n",
    "       'mort_acc', 'mths_since_recent_bc', 'mths_since_recent_bc_dlq',\n",
    "       'mths_since_recent_inq', 'mths_since_recent_revol_delinq',\n",
    "       'num_accts_ever_120_pd', 'num_actv_bc_tl', 'num_actv_rev_tl',\n",
    "       'num_bc_sats', 'num_bc_tl', 'num_il_tl', 'num_op_rev_tl',\n",
    "       'num_rev_accts', 'num_rev_tl_bal_gt_0', 'num_sats', 'num_tl_120dpd_2m',\n",
    "       'num_tl_30dpd', 'num_tl_90g_dpd_24m', 'num_tl_op_past_12m',\n",
    "       'pct_tl_nvr_dlq', 'percent_bc_gt_75', 'tot_hi_cred_lim',\n",
    "       'total_bal_ex_mort', 'total_bc_limit', 'total_il_high_credit_limit',\n",
    "       'revol_bal_joint', 'sec_app_earliest_cr_line', 'sec_app_inq_last_6mths',\n",
    "       'sec_app_mort_acc', 'sec_app_open_acc', 'sec_app_revol_util',\n",
    "       'sec_app_open_act_il', 'sec_app_num_rev_accts',\n",
    "       'sec_app_chargeoff_within_12_mths',\n",
    "       'sec_app_collections_12_mths_ex_med',\n",
    "       'sec_app_mths_since_last_major_derog', 'hardship_type',\n",
    "       'hardship_reason', 'hardship_status', 'deferral_term',\n",
    "       'hardship_amount', 'hardship_start_date', 'hardship_end_date',\n",
    "       'payment_plan_start_date', 'hardship_length', 'hardship_dpd',\n",
    "       'hardship_loan_status', 'orig_projected_additional_accrued_interest',\n",
    "       'hardship_payoff_balance_amount', 'hardship_last_payment_amount',\n",
    "       'debt_settlement_flag_date', 'settlement_status', 'settlement_date',\n",
    "       'settlement_amount', 'settlement_percentage', 'settlement_term']\n",
    "#drop leaks\n",
    "df_small = df.drop(columns=leak_cols, axis=1)\n",
    "drop_col_count = len(leak_cols)\n",
    "print(\"The new dataframe has {} columns and lost {} after dropping future leaks\".format(df_small.shape[1],\n",
    "                                                                           drop_col_count))"
   ]
  },
  {
   "cell_type": "code",
   "execution_count": 12,
   "metadata": {},
   "outputs": [
    {
     "data": {
      "text/plain": [
       "(42538, 54)"
      ]
     },
     "execution_count": 12,
     "metadata": {},
     "output_type": "execute_result"
    }
   ],
   "source": [
    "df_small.shape"
   ]
  },
  {
   "cell_type": "code",
   "execution_count": 13,
   "metadata": {},
   "outputs": [
    {
     "name": "stdout",
     "output_type": "stream",
     "text": [
      "['pymnt_plan', 'initial_list_status', 'out_prncp', 'out_prncp_inv', 'collections_12_mths_ex_med', 'policy_code', 'application_type', 'chargeoff_within_12_mths', 'hardship_flag']\n"
     ]
    }
   ],
   "source": [
    "#remove columns that have only 1 feature\n",
    "#get unique values per feature\n",
    "nunique_value = df_small.apply(pd.Series.nunique)\n",
    "#note columns that have single value\n",
    "single_value_cols = nunique_value[nunique_value == 1].index.tolist()\n",
    "print(single_value_cols)"
   ]
  },
  {
   "cell_type": "code",
   "execution_count": 14,
   "metadata": {},
   "outputs": [],
   "source": [
    "# drop the redundant columns\n",
    "df_small = df_small.drop(columns=single_value_cols)"
   ]
  },
  {
   "cell_type": "code",
   "execution_count": 15,
   "metadata": {},
   "outputs": [
    {
     "data": {
      "text/html": [
       "<div>\n",
       "<style scoped>\n",
       "    .dataframe tbody tr th:only-of-type {\n",
       "        vertical-align: middle;\n",
       "    }\n",
       "\n",
       "    .dataframe tbody tr th {\n",
       "        vertical-align: top;\n",
       "    }\n",
       "\n",
       "    .dataframe thead th {\n",
       "        text-align: right;\n",
       "    }\n",
       "</style>\n",
       "<table border=\"1\" class=\"dataframe\">\n",
       "  <thead>\n",
       "    <tr style=\"text-align: right;\">\n",
       "      <th></th>\n",
       "      <th>index</th>\n",
       "      <th>mean_nan</th>\n",
       "      <th>dtypes</th>\n",
       "    </tr>\n",
       "  </thead>\n",
       "  <tbody>\n",
       "    <tr>\n",
       "      <th>0</th>\n",
       "      <td>mths_since_last_delinq</td>\n",
       "      <td>0.633058</td>\n",
       "      <td>float64</td>\n",
       "    </tr>\n",
       "    <tr>\n",
       "      <th>1</th>\n",
       "      <td>desc</td>\n",
       "      <td>0.312568</td>\n",
       "      <td>object</td>\n",
       "    </tr>\n",
       "    <tr>\n",
       "      <th>2</th>\n",
       "      <td>emp_title</td>\n",
       "      <td>0.061804</td>\n",
       "      <td>object</td>\n",
       "    </tr>\n",
       "    <tr>\n",
       "      <th>3</th>\n",
       "      <td>pub_rec_bankruptcies</td>\n",
       "      <td>0.032159</td>\n",
       "      <td>float64</td>\n",
       "    </tr>\n",
       "    <tr>\n",
       "      <th>4</th>\n",
       "      <td>tax_liens</td>\n",
       "      <td>0.002539</td>\n",
       "      <td>float64</td>\n",
       "    </tr>\n",
       "  </tbody>\n",
       "</table>\n",
       "</div>"
      ],
      "text/plain": [
       "                    index  mean_nan   dtypes\n",
       "0  mths_since_last_delinq  0.633058  float64\n",
       "1                    desc  0.312568   object\n",
       "2               emp_title  0.061804   object\n",
       "3    pub_rec_bankruptcies  0.032159  float64\n",
       "4               tax_liens  0.002539  float64"
      ]
     },
     "execution_count": 15,
     "metadata": {},
     "output_type": "execute_result"
    }
   ],
   "source": [
    "#make dataframe to record mean missing\n",
    "nan_df = pd.DataFrame(df_small.isna().mean(), columns=['mean_nan'])\n",
    "#add dtypes\n",
    "nan_df['dtypes'] = df_small.dtypes\n",
    "#sort by most missing at top\n",
    "nan_df = nan_df.sort_values(by=['mean_nan'], ascending=False)\n",
    "\n",
    "nan_df = nan_df.reset_index()\n",
    "\n",
    "nan_df.head()"
   ]
  },
  {
   "cell_type": "code",
   "execution_count": 16,
   "metadata": {},
   "outputs": [],
   "source": [
    "a=df_small.isnull().sum()/len(df_small)*100\n",
    "variables = df_small.columns\n",
    "variable = [ ]\n",
    "for i in range(0,len(df_small.columns)):\n",
    "    if a[i]<50:   # setting the threshold as 90% (MissingValue)\n",
    "        variable.append(variables[i])\n",
    "# Dropping Columns based on missing data being more than 60% \n",
    "drop_columns1=list(set(variables) - set(variable))\n",
    "df_drop_nan=df_small.drop(columns=drop_columns1)"
   ]
  },
  {
   "cell_type": "code",
   "execution_count": 17,
   "metadata": {},
   "outputs": [
    {
     "name": "stdout",
     "output_type": "stream",
     "text": [
      "<class 'pandas.core.frame.DataFrame'>\n",
      "RangeIndex: 42538 entries, 0 to 42537\n",
      "Data columns (total 44 columns):\n",
      " #   Column                   Non-Null Count  Dtype  \n",
      "---  ------                   --------------  -----  \n",
      " 0   loan_amnt                42535 non-null  float64\n",
      " 1   funded_amnt              42535 non-null  float64\n",
      " 2   funded_amnt_inv          42535 non-null  float64\n",
      " 3   term                     42535 non-null  object \n",
      " 4   int_rate                 42535 non-null  object \n",
      " 5   installment              42535 non-null  float64\n",
      " 6   grade                    42535 non-null  object \n",
      " 7   sub_grade                42535 non-null  object \n",
      " 8   emp_title                39909 non-null  object \n",
      " 9   emp_length               42538 non-null  float64\n",
      " 10  home_ownership           42535 non-null  object \n",
      " 11  annual_inc               42531 non-null  float64\n",
      " 12  verification_status      42535 non-null  object \n",
      " 13  issue_d                  42535 non-null  object \n",
      " 14  loan_status              42538 non-null  int64  \n",
      " 15  desc                     29242 non-null  object \n",
      " 16  purpose                  42535 non-null  object \n",
      " 17  title                    42522 non-null  object \n",
      " 18  zip_code                 42535 non-null  object \n",
      " 19  addr_state               42535 non-null  object \n",
      " 20  dti                      42535 non-null  float64\n",
      " 21  delinq_2yrs              42506 non-null  float64\n",
      " 22  earliest_cr_line         42506 non-null  object \n",
      " 23  inq_last_6mths           42506 non-null  float64\n",
      " 24  open_acc                 42506 non-null  float64\n",
      " 25  pub_rec                  42506 non-null  float64\n",
      " 26  revol_bal                42535 non-null  float64\n",
      " 27  revol_util               42445 non-null  object \n",
      " 28  total_acc                42506 non-null  float64\n",
      " 29  total_pymnt              42535 non-null  float64\n",
      " 30  total_pymnt_inv          42535 non-null  float64\n",
      " 31  total_rec_prncp          42535 non-null  float64\n",
      " 32  total_rec_int            42535 non-null  float64\n",
      " 33  total_rec_late_fee       42535 non-null  float64\n",
      " 34  recoveries               42535 non-null  float64\n",
      " 35  collection_recovery_fee  42535 non-null  float64\n",
      " 36  last_pymnt_d             42452 non-null  object \n",
      " 37  last_pymnt_amnt          42535 non-null  float64\n",
      " 38  last_credit_pull_d       42531 non-null  object \n",
      " 39  acc_now_delinq           42506 non-null  float64\n",
      " 40  delinq_amnt              42506 non-null  float64\n",
      " 41  pub_rec_bankruptcies     41170 non-null  float64\n",
      " 42  tax_liens                42430 non-null  float64\n",
      " 43  debt_settlement_flag     42535 non-null  object \n",
      "dtypes: float64(25), int64(1), object(18)\n",
      "memory usage: 14.3+ MB\n"
     ]
    }
   ],
   "source": [
    "df_drop_nan.info()"
   ]
  },
  {
   "cell_type": "code",
   "execution_count": 18,
   "metadata": {},
   "outputs": [],
   "source": [
    "def df_object_to_num(df_obj):\n",
    "    \n",
    "    \"\"\"Custom function to transform categorical features into numerical ones\n",
    "    This function will also be applied on the testing data so that we apply the same exact kind of transformation\n",
    "    \"\"\"\n",
    "    \n",
    "    #make deep copy\n",
    "    df_num = df_obj.copy()\n",
    "    \n",
    "    col_drop_list = ['emp_title']\n",
    "    \n",
    "    #pub_rec_bankruptcies\n",
    "    df_num['pub_rec_bankruptcies'] = np.where(df_num['pub_rec_bankruptcies']>0, 1, 0)\n",
    "    # pub_rec\n",
    "    df_num['pub_rec'] = np.where(df_num['pub_rec']>0, 1, 0)\n",
    "    \n",
    "     ### instantiate dicts ### \n",
    "    term_to_int = {' 36 months': 1,\n",
    "                   ' 60 months': 2}\n",
    "    grade_to_int = dict(zip(['A', 'B', 'C', 'D', 'E', 'F', 'G'], np.arange(7, 0, -1)))\n",
    "    \n",
    "    #copied from above, we can write a function to generate this dict\n",
    "    sub_grade_sorted = {'G5': 0, 'G4': 1, 'G3': 2, 'G2': 3, 'G1': 4,\n",
    "                        'F5': 5, 'F4': 6, 'F3': 7, 'F2': 8, 'F1': 9,\n",
    "                        'E5': 10, 'E4': 11, 'E3': 12, 'E2': 13, 'E1': 14,\n",
    "                        'D5': 15, 'D4': 16, 'D3': 17, 'D2': 18, 'D1': 19,\n",
    "                        'C5': 20, 'C4': 21, 'C3': 22, 'C2': 23, 'C1': 24,\n",
    "                        'B5': 25, 'B4': 26, 'B3': 27, 'B2': 28, 'B1': 29,\n",
    "                        'A5': 30, 'A4': 31, 'A3': 32, 'A2': 33, 'A1': 34}    \n",
    "    home_to_int = {'MORTGAGE': 4, 'RENT': 3, 'OWN': 5,'ANY': 2,'OTHER': 1, 'NONE':0 }\n",
    "    ver_stat_to_int = {'Source Verified':2,'Verified': 1,'Not Verified': 0}\n",
    "    \n",
    "    #replacements\n",
    "    df_num.replace({'term': term_to_int, \n",
    "                    'grade':grade_to_int,\n",
    "                    'sub_grade': sub_grade_sorted,\n",
    "                    'home_ownership':home_to_int,\n",
    "                    'verification_status':ver_stat_to_int}, inplace=True)\n",
    "    col_drop_list.append('zip_code')\n",
    "    \n",
    "    df_num['dti'] = np.where(df_num['dti'].isnull(),df_num['dti'].mean() , df_num['dti'])\n",
    "    df_num['earliest_cr_line']=  pd.to_datetime(df_num['earliest_cr_line'], infer_datetime_format=True)\n",
    "    df_num['issue_d']=  pd.to_datetime(df_num['issue_d'], infer_datetime_format=True)\n",
    "    credit_hist= df_num['issue_d'] - df_num['earliest_cr_line']\n",
    "    df_num['credit_hist']=credit_hist.dt.days\n",
    "    col_drop_list.append('earliest_cr_line')\n",
    "\n",
    "    df_num['issue_d']=  pd.to_datetime(df_num['issue_d'], infer_datetime_format=True)\n",
    "    col_drop_list.append('issue_d')\n",
    "    \n",
    "    #Balance_annual_income\n",
    "    df_num['balance_annual_inc'] = np.where(df_num['annual_inc']==0,0 , df_num['loan_amnt'] / df_num['annual_inc'])\n",
    "    \n",
    "    df_num['annual_inc']+=1\n",
    "    df_num['annual_inc']=np.log(df_num['annual_inc'])\n",
    "    df_num['revol_bal']+=1\n",
    "    df_num['revol_bal']=np.log(df_num['revol_bal'])\n",
    "    \n",
    "    df_num['inst_amnt_ratio']=df_num['installment']/df_num['loan_amnt']\n",
    "    col_drop_list.extend(['installment','loan_amnt'])\n",
    "    \n",
    "     # credit_line_ratio \n",
    "    df_num['credit_line_ratio']=df_num['open_acc']/df_num['total_acc']\n",
    "    col_drop_list.extend(['open_acc','total_acc'])\n",
    "    \n",
    "    df_num[\"purpose\"].replace([np.nan],[\"other\"],inplace=True)\n",
    "    \n",
    "    debt_settlement_flag_mode = df_num[\"debt_settlement_flag\"].mode()\n",
    "    df_num[\"debt_settlement_flag\"].replace([np.nan],debt_settlement_flag_mode,inplace=True)\n",
    "    \n",
    "    addr_state_mode = df[\"addr_state\"].mode()\n",
    "    df_num[\"addr_state\"].replace([np.nan],addr_state_mode,inplace=True)\n",
    "    \n",
    "    df_num['debt_settlement_flag'] = df_num['debt_settlement_flag'].map({'Y': 1, 'N': 0})\n",
    "    \n",
    "    df_num  = df_num.drop(columns=col_drop_list)\n",
    "    df_num = df_num.dropna()\n",
    "\n",
    "    return df_num"
   ]
  },
  {
   "cell_type": "code",
   "execution_count": 19,
   "metadata": {},
   "outputs": [
    {
     "data": {
      "text/html": [
       "<div>\n",
       "<style scoped>\n",
       "    .dataframe tbody tr th:only-of-type {\n",
       "        vertical-align: middle;\n",
       "    }\n",
       "\n",
       "    .dataframe tbody tr th {\n",
       "        vertical-align: top;\n",
       "    }\n",
       "\n",
       "    .dataframe thead th {\n",
       "        text-align: right;\n",
       "    }\n",
       "</style>\n",
       "<table border=\"1\" class=\"dataframe\">\n",
       "  <thead>\n",
       "    <tr style=\"text-align: right;\">\n",
       "      <th></th>\n",
       "      <th>funded_amnt</th>\n",
       "      <th>funded_amnt_inv</th>\n",
       "      <th>term</th>\n",
       "      <th>int_rate</th>\n",
       "      <th>grade</th>\n",
       "      <th>sub_grade</th>\n",
       "      <th>emp_length</th>\n",
       "      <th>home_ownership</th>\n",
       "      <th>annual_inc</th>\n",
       "      <th>verification_status</th>\n",
       "      <th>...</th>\n",
       "      <th>last_credit_pull_d</th>\n",
       "      <th>acc_now_delinq</th>\n",
       "      <th>delinq_amnt</th>\n",
       "      <th>pub_rec_bankruptcies</th>\n",
       "      <th>tax_liens</th>\n",
       "      <th>debt_settlement_flag</th>\n",
       "      <th>credit_hist</th>\n",
       "      <th>balance_annual_inc</th>\n",
       "      <th>inst_amnt_ratio</th>\n",
       "      <th>credit_line_ratio</th>\n",
       "    </tr>\n",
       "  </thead>\n",
       "  <tbody>\n",
       "    <tr>\n",
       "      <th>0</th>\n",
       "      <td>5000.0</td>\n",
       "      <td>4975.0</td>\n",
       "      <td>1.0</td>\n",
       "      <td>10.65%</td>\n",
       "      <td>6.0</td>\n",
       "      <td>28.0</td>\n",
       "      <td>10.0</td>\n",
       "      <td>3.0</td>\n",
       "      <td>10.085851</td>\n",
       "      <td>1.0</td>\n",
       "      <td>...</td>\n",
       "      <td>Dec-2018</td>\n",
       "      <td>0.0</td>\n",
       "      <td>0.0</td>\n",
       "      <td>0</td>\n",
       "      <td>0.0</td>\n",
       "      <td>0</td>\n",
       "      <td>9830.0</td>\n",
       "      <td>0.208333</td>\n",
       "      <td>0.032574</td>\n",
       "      <td>0.333333</td>\n",
       "    </tr>\n",
       "    <tr>\n",
       "      <th>1</th>\n",
       "      <td>2500.0</td>\n",
       "      <td>2500.0</td>\n",
       "      <td>2.0</td>\n",
       "      <td>15.27%</td>\n",
       "      <td>5.0</td>\n",
       "      <td>21.0</td>\n",
       "      <td>0.5</td>\n",
       "      <td>3.0</td>\n",
       "      <td>10.308986</td>\n",
       "      <td>2.0</td>\n",
       "      <td>...</td>\n",
       "      <td>Oct-2016</td>\n",
       "      <td>0.0</td>\n",
       "      <td>0.0</td>\n",
       "      <td>0</td>\n",
       "      <td>0.0</td>\n",
       "      <td>0</td>\n",
       "      <td>4627.0</td>\n",
       "      <td>0.083333</td>\n",
       "      <td>0.023932</td>\n",
       "      <td>0.750000</td>\n",
       "    </tr>\n",
       "    <tr>\n",
       "      <th>3</th>\n",
       "      <td>10000.0</td>\n",
       "      <td>10000.0</td>\n",
       "      <td>1.0</td>\n",
       "      <td>13.49%</td>\n",
       "      <td>5.0</td>\n",
       "      <td>24.0</td>\n",
       "      <td>10.0</td>\n",
       "      <td>3.0</td>\n",
       "      <td>10.803669</td>\n",
       "      <td>2.0</td>\n",
       "      <td>...</td>\n",
       "      <td>Apr-2016</td>\n",
       "      <td>0.0</td>\n",
       "      <td>0.0</td>\n",
       "      <td>0</td>\n",
       "      <td>0.0</td>\n",
       "      <td>0</td>\n",
       "      <td>5782.0</td>\n",
       "      <td>0.203252</td>\n",
       "      <td>0.033931</td>\n",
       "      <td>0.270270</td>\n",
       "    </tr>\n",
       "    <tr>\n",
       "      <th>4</th>\n",
       "      <td>3000.0</td>\n",
       "      <td>3000.0</td>\n",
       "      <td>2.0</td>\n",
       "      <td>12.69%</td>\n",
       "      <td>6.0</td>\n",
       "      <td>25.0</td>\n",
       "      <td>1.0</td>\n",
       "      <td>3.0</td>\n",
       "      <td>11.289794</td>\n",
       "      <td>2.0</td>\n",
       "      <td>...</td>\n",
       "      <td>Apr-2018</td>\n",
       "      <td>0.0</td>\n",
       "      <td>0.0</td>\n",
       "      <td>0</td>\n",
       "      <td>0.0</td>\n",
       "      <td>0</td>\n",
       "      <td>5813.0</td>\n",
       "      <td>0.037500</td>\n",
       "      <td>0.022597</td>\n",
       "      <td>0.394737</td>\n",
       "    </tr>\n",
       "    <tr>\n",
       "      <th>6</th>\n",
       "      <td>7000.0</td>\n",
       "      <td>7000.0</td>\n",
       "      <td>2.0</td>\n",
       "      <td>15.96%</td>\n",
       "      <td>5.0</td>\n",
       "      <td>20.0</td>\n",
       "      <td>8.0</td>\n",
       "      <td>3.0</td>\n",
       "      <td>10.758009</td>\n",
       "      <td>0.0</td>\n",
       "      <td>...</td>\n",
       "      <td>Dec-2018</td>\n",
       "      <td>0.0</td>\n",
       "      <td>0.0</td>\n",
       "      <td>0</td>\n",
       "      <td>0.0</td>\n",
       "      <td>0</td>\n",
       "      <td>2344.0</td>\n",
       "      <td>0.148923</td>\n",
       "      <td>0.024297</td>\n",
       "      <td>0.636364</td>\n",
       "    </tr>\n",
       "  </tbody>\n",
       "</table>\n",
       "<p>5 rows × 40 columns</p>\n",
       "</div>"
      ],
      "text/plain": [
       "   funded_amnt  funded_amnt_inv  term int_rate  grade  sub_grade  emp_length  \\\n",
       "0       5000.0           4975.0   1.0   10.65%    6.0       28.0        10.0   \n",
       "1       2500.0           2500.0   2.0   15.27%    5.0       21.0         0.5   \n",
       "3      10000.0          10000.0   1.0   13.49%    5.0       24.0        10.0   \n",
       "4       3000.0           3000.0   2.0   12.69%    6.0       25.0         1.0   \n",
       "6       7000.0           7000.0   2.0   15.96%    5.0       20.0         8.0   \n",
       "\n",
       "   home_ownership  annual_inc  verification_status  ...  last_credit_pull_d  \\\n",
       "0             3.0   10.085851                  1.0  ...            Dec-2018   \n",
       "1             3.0   10.308986                  2.0  ...            Oct-2016   \n",
       "3             3.0   10.803669                  2.0  ...            Apr-2016   \n",
       "4             3.0   11.289794                  2.0  ...            Apr-2018   \n",
       "6             3.0   10.758009                  0.0  ...            Dec-2018   \n",
       "\n",
       "  acc_now_delinq delinq_amnt pub_rec_bankruptcies tax_liens  \\\n",
       "0            0.0         0.0                    0       0.0   \n",
       "1            0.0         0.0                    0       0.0   \n",
       "3            0.0         0.0                    0       0.0   \n",
       "4            0.0         0.0                    0       0.0   \n",
       "6            0.0         0.0                    0       0.0   \n",
       "\n",
       "   debt_settlement_flag  credit_hist  balance_annual_inc  inst_amnt_ratio  \\\n",
       "0                     0       9830.0            0.208333         0.032574   \n",
       "1                     0       4627.0            0.083333         0.023932   \n",
       "3                     0       5782.0            0.203252         0.033931   \n",
       "4                     0       5813.0            0.037500         0.022597   \n",
       "6                     0       2344.0            0.148923         0.024297   \n",
       "\n",
       "   credit_line_ratio  \n",
       "0           0.333333  \n",
       "1           0.750000  \n",
       "3           0.270270  \n",
       "4           0.394737  \n",
       "6           0.636364  \n",
       "\n",
       "[5 rows x 40 columns]"
      ]
     },
     "execution_count": 19,
     "metadata": {},
     "output_type": "execute_result"
    }
   ],
   "source": [
    "# Make entries numerical\n",
    "df_num = df_object_to_num(df_drop_nan)\n",
    "df_num.head()"
   ]
  },
  {
   "cell_type": "code",
   "execution_count": 20,
   "metadata": {},
   "outputs": [],
   "source": [
    "def remove_percent_sign(st):#this finction removes '%' sign from the int_rate column.\n",
    "    st = str(st)\n",
    "    if st == \"nan\":\n",
    "        pass\n",
    "    else:\n",
    "        st = st[0:-1]\n",
    "        st = float(st)\n",
    "    return(st)"
   ]
  },
  {
   "cell_type": "code",
   "execution_count": 21,
   "metadata": {},
   "outputs": [
    {
     "data": {
      "text/plain": [
       "array([10.65, 15.27, 13.49, 12.69, 15.96, 18.64, 21.28, 14.65,  9.91,\n",
       "        6.03, 11.71, 12.42, 16.77,  7.51,  7.9 ,  8.9 , 18.25, 19.91,\n",
       "       17.27, 14.27, 17.58, 21.67, 16.29,  6.62, 20.3 , 19.42, 20.89,\n",
       "       23.91, 19.03, 23.52, 23.13, 22.74, 22.35, 22.06, 24.11,  6.  ,\n",
       "       22.11,  7.49, 11.99,  5.99, 10.99,  9.99, 18.79, 11.49,  8.49,\n",
       "       16.49, 15.23, 14.79,  5.42, 10.59, 17.49, 15.62, 21.36, 19.29,\n",
       "       12.99, 13.99,  6.99, 15.99, 20.62, 20.99, 22.85, 16.89, 17.99,\n",
       "       18.39, 19.69, 20.25, 23.22, 22.48, 21.74, 23.59, 12.62, 18.07,\n",
       "        7.42, 11.14, 20.2 , 12.12, 19.39, 16.11, 22.64, 13.84,  7.91,\n",
       "       16.59, 17.19, 12.87,  9.67, 11.63, 18.49, 20.69, 22.94, 19.79,\n",
       "       24.4 , 21.82, 14.17, 17.88, 20.11, 16.02, 17.51, 13.43, 14.91,\n",
       "       13.06, 15.28, 15.65, 11.11, 16.4 , 10.  , 18.62, 10.37,  5.79,\n",
       "        6.92, 17.14,  7.66,  7.29, 10.74, 12.68, 19.36, 13.8 ,  9.63,\n",
       "       14.54, 20.85, 21.22, 19.74, 18.99, 20.48, 21.59, 12.23, 12.61,\n",
       "       10.36,  6.91,  6.54,  9.25,  8.88, 15.95,  9.62, 13.35, 13.72,\n",
       "        6.17, 14.09, 14.46, 14.83, 17.8 , 16.69, 15.2 , 12.98, 16.32,\n",
       "       15.57, 18.54, 17.06, 20.4 , 18.17, 20.77, 17.43, 20.03, 18.91,\n",
       "       21.14, 19.66, 13.23,  7.88, 11.12, 17.56, 17.93, 15.58,  6.76,\n",
       "       13.61,  6.39, 11.86,  7.14, 13.98, 10.38, 10.75, 14.72, 16.45,\n",
       "       15.21, 14.35, 18.67, 14.84, 16.82, 19.41, 20.16, 21.27, 18.3 ,\n",
       "       19.04, 20.9 , 21.64, 20.53, 12.73, 10.25, 10.62, 13.48, 14.59,\n",
       "       16.07, 15.7 , 11.36, 13.11, 15.33, 13.85,  9.88, 14.96, 14.22,\n",
       "        7.74, 13.22,  8.59, 17.04, 14.61,  8.94, 11.83, 11.48, 12.18,\n",
       "       13.92, 15.31, 14.26, 16.35, 19.13, 12.53, 13.57, 16.7 , 16.  ,\n",
       "       17.39, 18.09,  7.4 , 18.43, 17.74,  7.05, 20.52, 20.86, 19.47,\n",
       "       18.78, 21.21, 19.82, 20.17, 13.16,  8.  , 13.47, 12.21, 16.63,\n",
       "        9.32, 12.84, 11.26, 15.68, 15.37, 10.95, 11.89, 14.11, 13.79,\n",
       "        7.68, 11.58,  7.37, 16.95, 15.05, 18.53, 14.74, 14.42, 18.21,\n",
       "       17.26, 18.84, 17.9 , 19.16, 13.67,  9.38, 12.72, 13.36, 11.46,\n",
       "       10.51,  9.07, 13.04, 11.78, 12.41, 10.83, 12.09, 17.46, 14.3 ,\n",
       "       17.15, 15.25, 10.2 , 15.88, 14.93, 16.2 , 18.72, 14.62,  8.32,\n",
       "       14.12, 10.96, 10.33, 10.01, 12.86, 11.28, 11.59,  8.63, 12.54,\n",
       "       12.22, 11.91, 15.38, 16.96, 13.17,  9.7 , 16.33, 14.75, 15.07,\n",
       "       16.01, 10.71, 10.64,  9.76, 11.34, 10.39, 13.87, 11.03, 11.66,\n",
       "       13.24, 10.08,  9.45, 13.55, 12.29, 11.97, 12.92, 15.45, 14.5 ,\n",
       "       14.18, 15.13, 16.08, 15.76, 17.03, 14.82, 17.34, 16.71,  9.83,\n",
       "       13.62, 10.46,  9.51,  9.2 , 13.3 , 10.78,  7.75,  8.38, 12.36,\n",
       "       12.67, 11.72, 13.93,  8.07,  7.43, 12.04, 14.25, 14.88, 11.41,\n",
       "       11.09, 10.14, 16.15, 15.83,  7.12, 18.36,  9.64,  9.96, 11.22,\n",
       "        9.01,  9.33, 11.54, 12.17, 12.8 , 14.38, 13.75, 14.7 , 12.49,\n",
       "       14.07, 10.91, 13.12, 10.28,  8.7 , 14.67, 15.01, 17.78, 16.83,\n",
       "       17.59, 14.43, 16.65, 17.91, 17.28, 18.86, 18.61, 17.66, 18.29,\n",
       "       17.97, 18.04, 14.57, 17.72, 17.09, 15.51, 16.46, 17.41, 17.22,\n",
       "       16.91, 16.28, 17.54, 17.86])"
      ]
     },
     "execution_count": 21,
     "metadata": {},
     "output_type": "execute_result"
    }
   ],
   "source": [
    "df_num[\"int_rate\"] = df_num[\"int_rate\"].apply(remove_percent_sign)\n",
    "df_num[\"int_rate\"].unique()"
   ]
  },
  {
   "cell_type": "code",
   "execution_count": 22,
   "metadata": {},
   "outputs": [
    {
     "name": "stdout",
     "output_type": "stream",
     "text": [
      "0\n"
     ]
    }
   ],
   "source": [
    "print(df_num[\"int_rate\"].isnull().sum())\n",
    "try:\n",
    "    df_num[\"int_rate\"].replace([np.nan],[df_num[\"int_rate\"].median()],inplace=True)\n",
    "except ValueError as err:\n",
    "    print(df_num[\"int_rate\"].isnull().sum())"
   ]
  },
  {
   "cell_type": "code",
   "execution_count": 23,
   "metadata": {},
   "outputs": [
    {
     "data": {
      "text/plain": [
       "array([ 83.7,   9.4,  21. , ..., 119. , 103.5, 105.3])"
      ]
     },
     "execution_count": 23,
     "metadata": {},
     "output_type": "execute_result"
    }
   ],
   "source": [
    "df_num[\"revol_util\"] = df_num[\"revol_util\"].apply(remove_percent_sign)\n",
    "df_num[\"revol_util\"].unique()"
   ]
  },
  {
   "cell_type": "code",
   "execution_count": 24,
   "metadata": {},
   "outputs": [
    {
     "name": "stdout",
     "output_type": "stream",
     "text": [
      "0\n"
     ]
    }
   ],
   "source": [
    "print(df_num[\"revol_util\"].isnull().sum())\n",
    "try:\n",
    "    df_num[\"revol_util\"].replace([np.nan],[df_num[\"revol_util\"].median()],inplace=True)\n",
    "except ValueError as err:\n",
    "    print(df_num[\"revol_util\"].isnull().sum())"
   ]
  },
  {
   "cell_type": "code",
   "execution_count": 25,
   "metadata": {},
   "outputs": [],
   "source": [
    "df_num.drop(\"desc\",axis=1,inplace=True)"
   ]
  },
  {
   "cell_type": "code",
   "execution_count": 26,
   "metadata": {},
   "outputs": [],
   "source": [
    "df_num.drop(\"title\",axis=1,inplace=True)   "
   ]
  },
  {
   "cell_type": "code",
   "execution_count": 27,
   "metadata": {},
   "outputs": [],
   "source": [
    "df_num.drop(\"addr_state\",axis=1,inplace=True)   "
   ]
  },
  {
   "cell_type": "code",
   "execution_count": 28,
   "metadata": {},
   "outputs": [
    {
     "name": "stdout",
     "output_type": "stream",
     "text": [
      "['Jan-2015' 'Apr-2013' 'Jan-2017' 'May-2016' 'Apr-2012' 'Nov-2012'\n",
      " 'Jun-2013' 'Jul-2012' 'May-2013' 'Feb-2015' 'Aug-2015' 'Sep-2013'\n",
      " 'Dec-2012' 'Dec-2014' 'Aug-2013' 'Nov-2013' 'Jan-2014' 'Apr-2014'\n",
      " 'Oct-2014' 'Jul-2014' 'Oct-2013' 'Aug-2012' 'Jan-2016' 'Feb-2016'\n",
      " 'Feb-2014' 'Sep-2014' 'Sep-2012' 'Jul-2013' 'Feb-2013' 'Oct-2012'\n",
      " 'Jun-2016' 'May-2014' 'Mar-2015' 'Jan-2013' 'Dec-2013' 'Jun-2014'\n",
      " 'Mar-2014' 'Nov-2015' 'Mar-2016' 'Jan-2012' 'Feb-2012' 'Mar-2012'\n",
      " 'Oct-2015' 'May-2012' 'Aug-2014' 'Apr-2015' 'Dec-2016' 'Sep-2015'\n",
      " 'Mar-2013' 'Nov-2014' 'Jul-2016' 'Oct-2016' 'Jun-2015' 'Jun-2012'\n",
      " 'Feb-2017' 'Sep-2016' 'Nov-2016' 'May-2015' 'Aug-2016' 'Jul-2015'\n",
      " 'Dec-2015' 'Apr-2017' 'Apr-2016' 'Dec-2011' 'Nov-2011' 'Oct-2011'\n",
      " 'Sep-2011' 'Aug-2011' 'Jul-2011' 'Jun-2011' 'May-2011' 'Apr-2011'\n",
      " 'Mar-2011' 'Feb-2011' 'Jan-2011' 'Dec-2010' 'Nov-2010' 'Oct-2010'\n",
      " 'Sep-2010' 'Aug-2010' 'Jul-2010' 'Jun-2010' 'May-2010' 'Apr-2010'\n",
      " 'Mar-2010' 'Feb-2010' 'Jan-2010' 'Dec-2009' 'Nov-2009' 'Oct-2009'\n",
      " 'Sep-2009' 'Aug-2009' 'Jul-2009' 'Jun-2009' 'May-2009' 'Apr-2009'\n",
      " 'Mar-2009' 'Feb-2009' 'Jan-2009' 'Dec-2008' 'Oct-2008' 'Aug-2008'\n",
      " 'Jul-2008' 'Sep-2008' 'Jun-2008' 'May-2008' 'Nov-2008' 'Apr-2008'\n",
      " 'Mar-2008' 'Feb-2008' 'Jan-2008' 'Dec-2007']\n"
     ]
    }
   ],
   "source": [
    "print(df_num[\"last_pymnt_d\"].unique())\n",
    "df_num.drop(\"last_pymnt_d\",axis = 1,inplace=True)"
   ]
  },
  {
   "cell_type": "code",
   "execution_count": 29,
   "metadata": {},
   "outputs": [],
   "source": [
    "df_num[\"last_credit_pull_d\"].unique()\n",
    "df_num.drop(\"last_credit_pull_d\",axis=1,inplace=True)"
   ]
  },
  {
   "cell_type": "code",
   "execution_count": 30,
   "metadata": {},
   "outputs": [],
   "source": [
    "col=['purpose']\n",
    "df_num.loc[:,col]= df_num.loc[:,col].apply(LabelEncoder().fit_transform)"
   ]
  },
  {
   "cell_type": "code",
   "execution_count": 31,
   "metadata": {},
   "outputs": [],
   "source": [
    "target_col = 'loan_status'\n",
    "\n",
    "#feature space\n",
    "X = df_num.drop(target_col,axis=1)\n",
    "                \n",
    "#target variable\n",
    "y = df_num[target_col]"
   ]
  },
  {
   "cell_type": "code",
   "execution_count": 32,
   "metadata": {},
   "outputs": [
    {
     "name": "stdout",
     "output_type": "stream",
     "text": [
      "<class 'pandas.core.frame.DataFrame'>\n",
      "Int64Index: 29047 entries, 0 to 42478\n",
      "Data columns (total 34 columns):\n",
      " #   Column                   Non-Null Count  Dtype  \n",
      "---  ------                   --------------  -----  \n",
      " 0   funded_amnt              29047 non-null  float64\n",
      " 1   funded_amnt_inv          29047 non-null  float64\n",
      " 2   term                     29047 non-null  float64\n",
      " 3   int_rate                 29047 non-null  float64\n",
      " 4   grade                    29047 non-null  float64\n",
      " 5   sub_grade                29047 non-null  float64\n",
      " 6   emp_length               29047 non-null  float64\n",
      " 7   home_ownership           29047 non-null  float64\n",
      " 8   annual_inc               29047 non-null  float64\n",
      " 9   verification_status      29047 non-null  float64\n",
      " 10  purpose                  29047 non-null  int64  \n",
      " 11  dti                      29047 non-null  float64\n",
      " 12  delinq_2yrs              29047 non-null  float64\n",
      " 13  inq_last_6mths           29047 non-null  float64\n",
      " 14  pub_rec                  29047 non-null  int64  \n",
      " 15  revol_bal                29047 non-null  float64\n",
      " 16  revol_util               29047 non-null  float64\n",
      " 17  total_pymnt              29047 non-null  float64\n",
      " 18  total_pymnt_inv          29047 non-null  float64\n",
      " 19  total_rec_prncp          29047 non-null  float64\n",
      " 20  total_rec_int            29047 non-null  float64\n",
      " 21  total_rec_late_fee       29047 non-null  float64\n",
      " 22  recoveries               29047 non-null  float64\n",
      " 23  collection_recovery_fee  29047 non-null  float64\n",
      " 24  last_pymnt_amnt          29047 non-null  float64\n",
      " 25  acc_now_delinq           29047 non-null  float64\n",
      " 26  delinq_amnt              29047 non-null  float64\n",
      " 27  pub_rec_bankruptcies     29047 non-null  int64  \n",
      " 28  tax_liens                29047 non-null  float64\n",
      " 29  debt_settlement_flag     29047 non-null  int64  \n",
      " 30  credit_hist              29047 non-null  float64\n",
      " 31  balance_annual_inc       29047 non-null  float64\n",
      " 32  inst_amnt_ratio          29047 non-null  float64\n",
      " 33  credit_line_ratio        29047 non-null  float64\n",
      "dtypes: float64(30), int64(4)\n",
      "memory usage: 7.8 MB\n"
     ]
    }
   ],
   "source": [
    "X.info()"
   ]
  },
  {
   "cell_type": "code",
   "execution_count": 33,
   "metadata": {},
   "outputs": [],
   "source": [
    "from sklearn.model_selection import train_test_split\n",
    "\n",
    "X_train, X_test, y_train, y_test = train_test_split(X, y, test_size=0.3, random_state=101)"
   ]
  },
  {
   "cell_type": "code",
   "execution_count": 34,
   "metadata": {},
   "outputs": [],
   "source": [
    "from sklearn.preprocessing import StandardScaler\n",
    "ss = StandardScaler()\n",
    "X_train = ss.fit_transform(X_train)\n",
    "X_test = ss.transform(X_test)"
   ]
  },
  {
   "cell_type": "code",
   "execution_count": 35,
   "metadata": {},
   "outputs": [],
   "source": [
    "#ROC dict for TPR and FPR values\n",
    "roc_dict = {}\n",
    "\n",
    "#precision recall curve\n",
    "prc_dict = {}\n",
    "\n",
    "\n",
    "def modify_roc_dict(clf, y_test, X_test, name ,dict_modify):\n",
    "    \"\"\"\n",
    "    modifies a dictionary in place and adds keys for ROC metrics\n",
    "    \"\"\"\n",
    "    \n",
    "    fpr, tpr, thresholds = roc_curve(y_test,\n",
    "                                     clf.predict_proba(X_test)[:,1],\n",
    "                                     pos_label=1)\n",
    "    \n",
    "    \n",
    "    clf_roc_dict = {'fpr':fpr, 'tpr': tpr, 'thresholds': thresholds}\n",
    "    \n",
    "    dict_modify[name] = clf_roc_dict\n",
    "    \n",
    "def modify_prc_dict(clf, y_test, X_test, name ,dict_modify):\n",
    "    \"\"\"\n",
    "    modifies a dictionary in place and adds keys for precision recall metrics\n",
    "    \"\"\"\n",
    "    \n",
    "    precision, recall, thresholds = precision_recall_curve(y_test,\n",
    "                                     clf.predict_proba(X_test)[:,1],\n",
    "                                     pos_label=1)\n",
    "    \n",
    "    clf_prc_dict = {'precision':precision, 'recall': recall, 'thresholds': thresholds}\n",
    "    \n",
    "    dict_modify[name] = clf_prc_dict"
   ]
  },
  {
   "cell_type": "code",
   "execution_count": 36,
   "metadata": {},
   "outputs": [],
   "source": [
    "\n",
    "def fit_score_clf(clf, X_train, y_train, X_test, y_test, name='clf'):\n",
    "    \"\"\"\n",
    "    fits a classifer from sklearn and returns a dataframe\n",
    "    clf(sklearn): classifier\n",
    "    X_train(numpy): train features\n",
    "    y_train(numpy): predictions row vector\n",
    "    X_test(numpy): test features\n",
    "    y_test(numpy): ground truth row vector\n",
    "    name(string): name of classifier\n",
    "    \n",
    "    \"\"\"\n",
    "    #fit to train data\n",
    "    clf.fit(X_train, y_train)\n",
    "    #make predictions\n",
    "    y_pred = clf.predict(X_test)\n",
    "    #make dataframe from report\n",
    "    clf_report = pd.DataFrame(classification_report(y_test, y_pred, output_dict=True))\n",
    "    #add clf name as column\n",
    "    clf_report['clf'] = name\n",
    "    \n",
    "    return clf_report"
   ]
  },
  {
   "cell_type": "code",
   "execution_count": 37,
   "metadata": {},
   "outputs": [],
   "source": [
    "from sklearn.metrics import classification_report, roc_curve, precision_recall_curve, roc_auc_score,f1_score, confusion_matrix\n",
    "from sklearn.naive_bayes import MultinomialNB\n",
    "from sklearn.linear_model import LogisticRegression\n",
    "from sklearn.ensemble import GradientBoostingClassifier, RandomForestClassifier\n",
    "from sklearn.neighbors import KNeighborsClassifier\n",
    "from sklearn.svm import SVC\n",
    "from sklearn.model_selection import GridSearchCV"
   ]
  },
  {
   "cell_type": "code",
   "execution_count": 38,
   "metadata": {},
   "outputs": [
    {
     "data": {
      "text/html": [
       "<div>\n",
       "<style scoped>\n",
       "    .dataframe tbody tr th:only-of-type {\n",
       "        vertical-align: middle;\n",
       "    }\n",
       "\n",
       "    .dataframe tbody tr th {\n",
       "        vertical-align: top;\n",
       "    }\n",
       "\n",
       "    .dataframe thead th {\n",
       "        text-align: right;\n",
       "    }\n",
       "</style>\n",
       "<table border=\"1\" class=\"dataframe\">\n",
       "  <thead>\n",
       "    <tr style=\"text-align: right;\">\n",
       "      <th></th>\n",
       "      <th>0</th>\n",
       "      <th>1</th>\n",
       "      <th>accuracy</th>\n",
       "      <th>macro avg</th>\n",
       "      <th>weighted avg</th>\n",
       "      <th>clf</th>\n",
       "    </tr>\n",
       "  </thead>\n",
       "  <tbody>\n",
       "    <tr>\n",
       "      <th>precision</th>\n",
       "      <td>0.992498</td>\n",
       "      <td>1.000000</td>\n",
       "      <td>0.993574</td>\n",
       "      <td>0.996249</td>\n",
       "      <td>0.993623</td>\n",
       "      <td>lr</td>\n",
       "    </tr>\n",
       "    <tr>\n",
       "      <th>recall</th>\n",
       "      <td>1.000000</td>\n",
       "      <td>0.957121</td>\n",
       "      <td>0.993574</td>\n",
       "      <td>0.978560</td>\n",
       "      <td>0.993574</td>\n",
       "      <td>lr</td>\n",
       "    </tr>\n",
       "    <tr>\n",
       "      <th>f1-score</th>\n",
       "      <td>0.996235</td>\n",
       "      <td>0.978091</td>\n",
       "      <td>0.993574</td>\n",
       "      <td>0.987163</td>\n",
       "      <td>0.993516</td>\n",
       "      <td>lr</td>\n",
       "    </tr>\n",
       "    <tr>\n",
       "      <th>support</th>\n",
       "      <td>7409.000000</td>\n",
       "      <td>1306.000000</td>\n",
       "      <td>0.993574</td>\n",
       "      <td>8715.000000</td>\n",
       "      <td>8715.000000</td>\n",
       "      <td>lr</td>\n",
       "    </tr>\n",
       "  </tbody>\n",
       "</table>\n",
       "</div>"
      ],
      "text/plain": [
       "                     0            1  accuracy    macro avg  weighted avg clf\n",
       "precision     0.992498     1.000000  0.993574     0.996249      0.993623  lr\n",
       "recall        1.000000     0.957121  0.993574     0.978560      0.993574  lr\n",
       "f1-score      0.996235     0.978091  0.993574     0.987163      0.993516  lr\n",
       "support    7409.000000  1306.000000  0.993574  8715.000000   8715.000000  lr"
      ]
     },
     "execution_count": 38,
     "metadata": {},
     "output_type": "execute_result"
    }
   ],
   "source": [
    "#instantiate with default params\n",
    "lr  = LogisticRegression(penalty='l2',\n",
    "                         C=1.0,\n",
    "                         solver = 'lbfgs',\n",
    "                         max_iter=400,\n",
    "                         n_jobs=-1)\n",
    "\n",
    "lr_report = fit_score_clf(lr, X_train, y_train, X_test, y_test, name='lr')\n",
    "lr_report.head()"
   ]
  },
  {
   "cell_type": "code",
   "execution_count": 39,
   "metadata": {},
   "outputs": [],
   "source": [
    "#metrics for lr\n",
    "modify_roc_dict(clf=lr,\n",
    "                y_test=y_test,\n",
    "                X_test=X_test,\n",
    "                name='Logistic Regression', \n",
    "                dict_modify=roc_dict)\n",
    "modify_prc_dict(clf=lr,\n",
    "                y_test=y_test,\n",
    "                X_test=X_test,\n",
    "                name='Logistic Regression',\n",
    "                dict_modify=prc_dict)"
   ]
  },
  {
   "cell_type": "code",
   "execution_count": 40,
   "metadata": {},
   "outputs": [
    {
     "data": {
      "text/html": [
       "<div>\n",
       "<style scoped>\n",
       "    .dataframe tbody tr th:only-of-type {\n",
       "        vertical-align: middle;\n",
       "    }\n",
       "\n",
       "    .dataframe tbody tr th {\n",
       "        vertical-align: top;\n",
       "    }\n",
       "\n",
       "    .dataframe thead th {\n",
       "        text-align: right;\n",
       "    }\n",
       "</style>\n",
       "<table border=\"1\" class=\"dataframe\">\n",
       "  <thead>\n",
       "    <tr style=\"text-align: right;\">\n",
       "      <th></th>\n",
       "      <th>0</th>\n",
       "      <th>1</th>\n",
       "      <th>accuracy</th>\n",
       "      <th>macro avg</th>\n",
       "      <th>weighted avg</th>\n",
       "      <th>clf</th>\n",
       "    </tr>\n",
       "  </thead>\n",
       "  <tbody>\n",
       "    <tr>\n",
       "      <th>precision</th>\n",
       "      <td>0.998786</td>\n",
       "      <td>0.994632</td>\n",
       "      <td>0.998164</td>\n",
       "      <td>0.996709</td>\n",
       "      <td>0.998163</td>\n",
       "      <td>gbtree</td>\n",
       "    </tr>\n",
       "    <tr>\n",
       "      <th>recall</th>\n",
       "      <td>0.999055</td>\n",
       "      <td>0.993109</td>\n",
       "      <td>0.998164</td>\n",
       "      <td>0.996082</td>\n",
       "      <td>0.998164</td>\n",
       "      <td>gbtree</td>\n",
       "    </tr>\n",
       "    <tr>\n",
       "      <th>f1-score</th>\n",
       "      <td>0.998920</td>\n",
       "      <td>0.993870</td>\n",
       "      <td>0.998164</td>\n",
       "      <td>0.996395</td>\n",
       "      <td>0.998164</td>\n",
       "      <td>gbtree</td>\n",
       "    </tr>\n",
       "    <tr>\n",
       "      <th>support</th>\n",
       "      <td>7409.000000</td>\n",
       "      <td>1306.000000</td>\n",
       "      <td>0.998164</td>\n",
       "      <td>8715.000000</td>\n",
       "      <td>8715.000000</td>\n",
       "      <td>gbtree</td>\n",
       "    </tr>\n",
       "  </tbody>\n",
       "</table>\n",
       "</div>"
      ],
      "text/plain": [
       "                     0            1  accuracy    macro avg  weighted avg  \\\n",
       "precision     0.998786     0.994632  0.998164     0.996709      0.998163   \n",
       "recall        0.999055     0.993109  0.998164     0.996082      0.998164   \n",
       "f1-score      0.998920     0.993870  0.998164     0.996395      0.998164   \n",
       "support    7409.000000  1306.000000  0.998164  8715.000000   8715.000000   \n",
       "\n",
       "              clf  \n",
       "precision  gbtree  \n",
       "recall     gbtree  \n",
       "f1-score   gbtree  \n",
       "support    gbtree  "
      ]
     },
     "execution_count": 40,
     "metadata": {},
     "output_type": "execute_result"
    }
   ],
   "source": [
    "gbtree = GradientBoostingClassifier(learning_rate=0.1, n_estimators = 100)\n",
    "\n",
    "gbtree_report = fit_score_clf(gbtree, X_train, y_train, X_test, y_test, name='gbtree')\n",
    "gbtree_report.head()"
   ]
  },
  {
   "cell_type": "code",
   "execution_count": 41,
   "metadata": {},
   "outputs": [],
   "source": [
    "#metrics for gbtree\n",
    "modify_roc_dict(gbtree, y_test, X_test, name='GBTree',dict_modify=roc_dict)"
   ]
  },
  {
   "cell_type": "code",
   "execution_count": 42,
   "metadata": {},
   "outputs": [],
   "source": [
    "modify_prc_dict(clf=gbtree,\n",
    "                y_test=y_test,\n",
    "                X_test=X_test,\n",
    "                name='GBTree',\n",
    "                dict_modify=prc_dict)"
   ]
  },
  {
   "cell_type": "code",
   "execution_count": 43,
   "metadata": {},
   "outputs": [
    {
     "data": {
      "text/html": [
       "<div>\n",
       "<style scoped>\n",
       "    .dataframe tbody tr th:only-of-type {\n",
       "        vertical-align: middle;\n",
       "    }\n",
       "\n",
       "    .dataframe tbody tr th {\n",
       "        vertical-align: top;\n",
       "    }\n",
       "\n",
       "    .dataframe thead th {\n",
       "        text-align: right;\n",
       "    }\n",
       "</style>\n",
       "<table border=\"1\" class=\"dataframe\">\n",
       "  <thead>\n",
       "    <tr style=\"text-align: right;\">\n",
       "      <th></th>\n",
       "      <th>0</th>\n",
       "      <th>1</th>\n",
       "      <th>accuracy</th>\n",
       "      <th>macro avg</th>\n",
       "      <th>weighted avg</th>\n",
       "      <th>clf</th>\n",
       "    </tr>\n",
       "  </thead>\n",
       "  <tbody>\n",
       "    <tr>\n",
       "      <th>precision</th>\n",
       "      <td>0.998787</td>\n",
       "      <td>1.000000</td>\n",
       "      <td>0.998967</td>\n",
       "      <td>0.999393</td>\n",
       "      <td>0.998969</td>\n",
       "      <td>rf</td>\n",
       "    </tr>\n",
       "    <tr>\n",
       "      <th>recall</th>\n",
       "      <td>1.000000</td>\n",
       "      <td>0.993109</td>\n",
       "      <td>0.998967</td>\n",
       "      <td>0.996554</td>\n",
       "      <td>0.998967</td>\n",
       "      <td>rf</td>\n",
       "    </tr>\n",
       "    <tr>\n",
       "      <th>f1-score</th>\n",
       "      <td>0.999393</td>\n",
       "      <td>0.996542</td>\n",
       "      <td>0.998967</td>\n",
       "      <td>0.997968</td>\n",
       "      <td>0.998966</td>\n",
       "      <td>rf</td>\n",
       "    </tr>\n",
       "    <tr>\n",
       "      <th>support</th>\n",
       "      <td>7409.000000</td>\n",
       "      <td>1306.000000</td>\n",
       "      <td>0.998967</td>\n",
       "      <td>8715.000000</td>\n",
       "      <td>8715.000000</td>\n",
       "      <td>rf</td>\n",
       "    </tr>\n",
       "  </tbody>\n",
       "</table>\n",
       "</div>"
      ],
      "text/plain": [
       "                     0            1  accuracy    macro avg  weighted avg clf\n",
       "precision     0.998787     1.000000  0.998967     0.999393      0.998969  rf\n",
       "recall        1.000000     0.993109  0.998967     0.996554      0.998967  rf\n",
       "f1-score      0.999393     0.996542  0.998967     0.997968      0.998966  rf\n",
       "support    7409.000000  1306.000000  0.998967  8715.000000   8715.000000  rf"
      ]
     },
     "execution_count": 43,
     "metadata": {},
     "output_type": "execute_result"
    }
   ],
   "source": [
    "rf = RandomForestClassifier(n_estimators=100, n_jobs=-1)\n",
    "\n",
    "rf_report = fit_score_clf(rf, X_train, y_train, X_test, y_test, name='rf')\n",
    "rf_report.head()"
   ]
  },
  {
   "cell_type": "code",
   "execution_count": 44,
   "metadata": {},
   "outputs": [],
   "source": [
    "#metrics for random forest\n",
    "modify_roc_dict(rf, y_test, X_test, name='RandomForest',dict_modify=roc_dict)"
   ]
  },
  {
   "cell_type": "code",
   "execution_count": 45,
   "metadata": {},
   "outputs": [],
   "source": [
    "modify_prc_dict(clf=rf,\n",
    "                y_test=y_test,\n",
    "                X_test=X_test,\n",
    "                name='RandomForest',\n",
    "                dict_modify=prc_dict)"
   ]
  },
  {
   "cell_type": "code",
   "execution_count": 46,
   "metadata": {},
   "outputs": [
    {
     "name": "stderr",
     "output_type": "stream",
     "text": [
      "/Users/suman/opt/miniconda3/envs/loanprediction/lib/python3.6/site-packages/xgboost/sklearn.py:888: UserWarning: The use of label encoder in XGBClassifier is deprecated and will be removed in a future release. To remove this warning, do the following: 1) Pass option use_label_encoder=False when constructing XGBClassifier object; and 2) Encode your labels (y) as integers starting with 0, i.e. 0, 1, 2, ..., [num_class - 1].\n",
      "  warnings.warn(label_encoder_deprecation_msg, UserWarning)\n"
     ]
    },
    {
     "name": "stdout",
     "output_type": "stream",
     "text": [
      "[20:38:28] WARNING: /Users/travis/build/dmlc/xgboost/src/learner.cc:1061: Starting in XGBoost 1.3.0, the default evaluation metric used with the objective 'binary:logistic' was changed from 'error' to 'logloss'. Explicitly set eval_metric if you'd like to restore the old behavior.\n"
     ]
    },
    {
     "data": {
      "text/html": [
       "<div>\n",
       "<style scoped>\n",
       "    .dataframe tbody tr th:only-of-type {\n",
       "        vertical-align: middle;\n",
       "    }\n",
       "\n",
       "    .dataframe tbody tr th {\n",
       "        vertical-align: top;\n",
       "    }\n",
       "\n",
       "    .dataframe thead th {\n",
       "        text-align: right;\n",
       "    }\n",
       "</style>\n",
       "<table border=\"1\" class=\"dataframe\">\n",
       "  <thead>\n",
       "    <tr style=\"text-align: right;\">\n",
       "      <th></th>\n",
       "      <th>0</th>\n",
       "      <th>1</th>\n",
       "      <th>accuracy</th>\n",
       "      <th>macro avg</th>\n",
       "      <th>weighted avg</th>\n",
       "      <th>clf</th>\n",
       "    </tr>\n",
       "  </thead>\n",
       "  <tbody>\n",
       "    <tr>\n",
       "      <th>precision</th>\n",
       "      <td>0.998921</td>\n",
       "      <td>1.000000</td>\n",
       "      <td>0.999082</td>\n",
       "      <td>0.999461</td>\n",
       "      <td>0.999083</td>\n",
       "      <td>xgb</td>\n",
       "    </tr>\n",
       "    <tr>\n",
       "      <th>recall</th>\n",
       "      <td>1.000000</td>\n",
       "      <td>0.993874</td>\n",
       "      <td>0.999082</td>\n",
       "      <td>0.996937</td>\n",
       "      <td>0.999082</td>\n",
       "      <td>xgb</td>\n",
       "    </tr>\n",
       "    <tr>\n",
       "      <th>f1-score</th>\n",
       "      <td>0.999460</td>\n",
       "      <td>0.996928</td>\n",
       "      <td>0.999082</td>\n",
       "      <td>0.998194</td>\n",
       "      <td>0.999081</td>\n",
       "      <td>xgb</td>\n",
       "    </tr>\n",
       "    <tr>\n",
       "      <th>support</th>\n",
       "      <td>7409.000000</td>\n",
       "      <td>1306.000000</td>\n",
       "      <td>0.999082</td>\n",
       "      <td>8715.000000</td>\n",
       "      <td>8715.000000</td>\n",
       "      <td>xgb</td>\n",
       "    </tr>\n",
       "  </tbody>\n",
       "</table>\n",
       "</div>"
      ],
      "text/plain": [
       "                     0            1  accuracy    macro avg  weighted avg  clf\n",
       "precision     0.998921     1.000000  0.999082     0.999461      0.999083  xgb\n",
       "recall        1.000000     0.993874  0.999082     0.996937      0.999082  xgb\n",
       "f1-score      0.999460     0.996928  0.999082     0.998194      0.999081  xgb\n",
       "support    7409.000000  1306.000000  0.999082  8715.000000   8715.000000  xgb"
      ]
     },
     "execution_count": 46,
     "metadata": {},
     "output_type": "execute_result"
    }
   ],
   "source": [
    "xgb_clf = xgb.XGBClassifier(n_estimators=300,\n",
    "                            subsample=0.9,\n",
    "                            n_jobs=-1)\n",
    "\n",
    "xgb_report = fit_score_clf(xgb_clf, X_train, y_train, X_test, y_test, name='xgb')\n",
    "xgb_report.head()"
   ]
  },
  {
   "cell_type": "code",
   "execution_count": 47,
   "metadata": {},
   "outputs": [],
   "source": [
    "#metrics for xgb\n",
    "modify_roc_dict(xgb_clf, y_test, X_test, name='XGBoost',dict_modify=roc_dict)"
   ]
  },
  {
   "cell_type": "code",
   "execution_count": 48,
   "metadata": {},
   "outputs": [],
   "source": [
    "modify_prc_dict(clf=xgb_clf,\n",
    "                y_test=y_test,\n",
    "                X_test=X_test,\n",
    "                name='XGBoost',\n",
    "                dict_modify=prc_dict)"
   ]
  },
  {
   "cell_type": "code",
   "execution_count": 49,
   "metadata": {},
   "outputs": [
    {
     "data": {
      "text/html": [
       "<div>\n",
       "<style scoped>\n",
       "    .dataframe tbody tr th:only-of-type {\n",
       "        vertical-align: middle;\n",
       "    }\n",
       "\n",
       "    .dataframe tbody tr th {\n",
       "        vertical-align: top;\n",
       "    }\n",
       "\n",
       "    .dataframe thead th {\n",
       "        text-align: right;\n",
       "    }\n",
       "</style>\n",
       "<table border=\"1\" class=\"dataframe\">\n",
       "  <thead>\n",
       "    <tr style=\"text-align: right;\">\n",
       "      <th></th>\n",
       "      <th>0</th>\n",
       "      <th>1</th>\n",
       "      <th>accuracy</th>\n",
       "      <th>macro avg</th>\n",
       "      <th>weighted avg</th>\n",
       "      <th>clf</th>\n",
       "    </tr>\n",
       "  </thead>\n",
       "  <tbody>\n",
       "    <tr>\n",
       "      <th>precision</th>\n",
       "      <td>0.907327</td>\n",
       "      <td>0.893891</td>\n",
       "      <td>0.906368</td>\n",
       "      <td>0.900609</td>\n",
       "      <td>0.905314</td>\n",
       "      <td>KNN</td>\n",
       "    </tr>\n",
       "    <tr>\n",
       "      <th>recall</th>\n",
       "      <td>0.991092</td>\n",
       "      <td>0.425727</td>\n",
       "      <td>0.906368</td>\n",
       "      <td>0.708410</td>\n",
       "      <td>0.906368</td>\n",
       "      <td>KNN</td>\n",
       "    </tr>\n",
       "    <tr>\n",
       "      <th>f1-score</th>\n",
       "      <td>0.947362</td>\n",
       "      <td>0.576763</td>\n",
       "      <td>0.906368</td>\n",
       "      <td>0.762063</td>\n",
       "      <td>0.891825</td>\n",
       "      <td>KNN</td>\n",
       "    </tr>\n",
       "    <tr>\n",
       "      <th>support</th>\n",
       "      <td>7409.000000</td>\n",
       "      <td>1306.000000</td>\n",
       "      <td>0.906368</td>\n",
       "      <td>8715.000000</td>\n",
       "      <td>8715.000000</td>\n",
       "      <td>KNN</td>\n",
       "    </tr>\n",
       "  </tbody>\n",
       "</table>\n",
       "</div>"
      ],
      "text/plain": [
       "                     0            1  accuracy    macro avg  weighted avg  clf\n",
       "precision     0.907327     0.893891  0.906368     0.900609      0.905314  KNN\n",
       "recall        0.991092     0.425727  0.906368     0.708410      0.906368  KNN\n",
       "f1-score      0.947362     0.576763  0.906368     0.762063      0.891825  KNN\n",
       "support    7409.000000  1306.000000  0.906368  8715.000000   8715.000000  KNN"
      ]
     },
     "execution_count": 49,
     "metadata": {},
     "output_type": "execute_result"
    }
   ],
   "source": [
    "knn = KNeighborsClassifier(n_neighbors =5, n_jobs=-1)\n",
    "\n",
    "knn_report = fit_score_clf(knn, X_train, y_train, X_test, y_test, name='KNN')\n",
    "knn_report.head()"
   ]
  },
  {
   "cell_type": "code",
   "execution_count": 50,
   "metadata": {},
   "outputs": [],
   "source": [
    "#metrics for knn\n",
    "modify_roc_dict(knn, y_test, X_test, name='KNN',dict_modify=roc_dict)"
   ]
  },
  {
   "cell_type": "code",
   "execution_count": 51,
   "metadata": {},
   "outputs": [],
   "source": [
    "modify_prc_dict(clf=knn,\n",
    "                y_test=y_test,\n",
    "                X_test=X_test,\n",
    "                name='knn',\n",
    "                dict_modify=prc_dict)"
   ]
  },
  {
   "cell_type": "code",
   "execution_count": 52,
   "metadata": {},
   "outputs": [
    {
     "data": {
      "text/plain": [
       "dict_keys(['Logistic Regression', 'GBTree', 'RandomForest', 'XGBoost', 'KNN'])"
      ]
     },
     "execution_count": 52,
     "metadata": {},
     "output_type": "execute_result"
    }
   ],
   "source": [
    "#see keys we have\n",
    "roc_dict.keys()"
   ]
  },
  {
   "cell_type": "code",
   "execution_count": 53,
   "metadata": {},
   "outputs": [
    {
     "data": {
      "image/png": "[encoded data removed]",
      "text/plain": [
       "<Figure size 432x288 with 1 Axes>"
      ]
     },
     "metadata": {
      "needs_background": "light"
     },
     "output_type": "display_data"
    }
   ],
   "source": [
    "for key in roc_dict:\n",
    "    clf = roc_dict[key]\n",
    "    plt.plot(clf['fpr'], clf['tpr'], label=key)\n",
    "plt.xlabel(\"FPR\")\n",
    "plt.ylabel(\"TPR\")\n",
    "plt.title(\"ROC\")\n",
    "plt.plot([0,1], [0,1], label='No Discrimination', linestyle='-', dashes=(5, 5))\n",
    "#plt.savefig(os.path.join('plots/roc_curve_all_models.png'))\n",
    "plt.legend()\n",
    "plt.show()"
   ]
  },
  {
   "cell_type": "code",
   "execution_count": 54,
   "metadata": {},
   "outputs": [
    {
     "data": {
      "image/png": "[encoded data removed]",
      "text/plain": [
       "<Figure size 432x288 with 1 Axes>"
      ]
     },
     "metadata": {
      "needs_background": "light"
     },
     "output_type": "display_data"
    }
   ],
   "source": [
    "for key in prc_dict:\n",
    "    clf = prc_dict[key]\n",
    "    plt.plot(clf['precision'], clf['recall'], label=key)\n",
    "plt.xlabel(\"Precision\")\n",
    "plt.ylabel(\"Recall\")\n",
    "plt.title(\"Precision Recall Curve\")\n",
    "#plt.savefig(os.path.join('plots/prc_curve_all_models.png'))\n",
    "\n",
    "plt.legend()\n",
    "\n",
    "plt.show()"
   ]
  },
  {
   "cell_type": "code",
   "execution_count": 55,
   "metadata": {},
   "outputs": [
    {
     "data": {
      "text/plain": [
       "array([[7409,    0],\n",
       "       [   9, 1297]])"
      ]
     },
     "execution_count": 55,
     "metadata": {},
     "output_type": "execute_result"
    }
   ],
   "source": [
    "rf.fit(X_train, y_train)\n",
    "y_pred = rf.predict(X_test)\n",
    "confusion_matrix(y_test, y_pred)"
   ]
  },
  {
   "cell_type": "code",
   "execution_count": 56,
   "metadata": {},
   "outputs": [],
   "source": [
    "fpr, tpr, thresholds = roc_curve(y_test,gbtree.predict_proba(X_test)[:,1],pos_label=1)"
   ]
  },
  {
   "cell_type": "code",
   "execution_count": 57,
   "metadata": {},
   "outputs": [],
   "source": [
    "precision, recall, thresholds = precision_recall_curve(y_test,\n",
    "                                                       gbtree.predict_proba(X_test)[:,1],\n",
    "                                                       pos_label=1)"
   ]
  },
  {
   "cell_type": "code",
   "execution_count": 58,
   "metadata": {},
   "outputs": [
    {
     "name": "stdout",
     "output_type": "stream",
     "text": [
      "gb_auc: 0.9989886477623238\n"
     ]
    }
   ],
   "source": [
    "gb_auc = roc_auc_score(y_test, gbtree.predict_proba(X_test)[:,1])\n",
    "print(\"gb_auc: {}\".format(gb_auc))"
   ]
  },
  {
   "cell_type": "code",
   "execution_count": 62,
   "metadata": {},
   "outputs": [
    {
     "data": {
      "text/plain": [
       "array([[ 0.59227257,  0.66020648, -0.56773277, ..., -0.55861065,\n",
       "         0.75386841, -0.96445582],\n",
       "       [ 0.42216399,  0.47514004, -0.56773277, ...,  0.24869195,\n",
       "         0.71697233, -1.07751351],\n",
       "       [-0.64455859, -0.52176081,  1.76139207, ..., -0.86143413,\n",
       "        -3.03093544,  0.6522692 ],\n",
       "       ...,\n",
       "       [-0.14486463, -0.01766816,  1.76139207, ..., -0.73507377,\n",
       "        -1.22442181,  1.37554091],\n",
       "       [-0.61620716, -0.56003466, -0.56773277, ..., -0.84490912,\n",
       "        -1.93678821, -0.27268406],\n",
       "       [ 0.13864968,  0.26393652, -0.56773277, ..., -0.26058503,\n",
       "         0.69288555,  2.01138418]])"
      ]
     },
     "execution_count": 62,
     "metadata": {},
     "output_type": "execute_result"
    }
   ],
   "source": [
    "X_test"
   ]
  },
  {
   "cell_type": "code",
   "execution_count": 59,
   "metadata": {},
   "outputs": [
    {
     "ename": "AttributeError",
     "evalue": "'numpy.ndarray' object has no attribute 'keys'",
     "output_type": "error",
     "traceback": [
      "\u001b[0;31m---------------------------------------------------------------------------\u001b[0m",
      "\u001b[0;31mAttributeError\u001b[0m                            Traceback (most recent call last)",
      "\u001b[0;32m<ipython-input-59-80d0ac909acf>\u001b[0m in \u001b[0;36m<module>\u001b[0;34m\u001b[0m\n\u001b[1;32m      7\u001b[0m \u001b[0mplt\u001b[0m\u001b[0;34m.\u001b[0m\u001b[0mfigure\u001b[0m\u001b[0;34m(\u001b[0m\u001b[0mfigsize\u001b[0m\u001b[0;34m=\u001b[0m\u001b[0;34m(\u001b[0m\u001b[0;36m8\u001b[0m\u001b[0;34m,\u001b[0m \u001b[0;36m18\u001b[0m\u001b[0;34m)\u001b[0m\u001b[0;34m)\u001b[0m\u001b[0;34m\u001b[0m\u001b[0;34m\u001b[0m\u001b[0m\n\u001b[1;32m      8\u001b[0m \u001b[0mplt\u001b[0m\u001b[0;34m.\u001b[0m\u001b[0mbarh\u001b[0m\u001b[0;34m(\u001b[0m\u001b[0mpos\u001b[0m\u001b[0;34m,\u001b[0m \u001b[0mfeature_importance\u001b[0m\u001b[0;34m[\u001b[0m\u001b[0msorted_idx\u001b[0m\u001b[0;34m]\u001b[0m\u001b[0;34m,\u001b[0m \u001b[0malign\u001b[0m\u001b[0;34m=\u001b[0m\u001b[0;34m'center'\u001b[0m\u001b[0;34m)\u001b[0m\u001b[0;34m\u001b[0m\u001b[0;34m\u001b[0m\u001b[0m\n\u001b[0;32m----> 9\u001b[0;31m \u001b[0mplt\u001b[0m\u001b[0;34m.\u001b[0m\u001b[0myticks\u001b[0m\u001b[0;34m(\u001b[0m\u001b[0mpos\u001b[0m\u001b[0;34m,\u001b[0m \u001b[0mX_train\u001b[0m\u001b[0;34m.\u001b[0m\u001b[0mkeys\u001b[0m\u001b[0;34m(\u001b[0m\u001b[0;34m)\u001b[0m\u001b[0;34m[\u001b[0m\u001b[0msorted_idx\u001b[0m\u001b[0;34m]\u001b[0m\u001b[0;34m)\u001b[0m\u001b[0;34m\u001b[0m\u001b[0;34m\u001b[0m\u001b[0m\n\u001b[0m\u001b[1;32m     10\u001b[0m \u001b[0mplt\u001b[0m\u001b[0;34m.\u001b[0m\u001b[0mxlabel\u001b[0m\u001b[0;34m(\u001b[0m\u001b[0;34m'Relative Importance'\u001b[0m\u001b[0;34m)\u001b[0m\u001b[0;34m\u001b[0m\u001b[0;34m\u001b[0m\u001b[0m\n\u001b[1;32m     11\u001b[0m \u001b[0mplt\u001b[0m\u001b[0;34m.\u001b[0m\u001b[0mtitle\u001b[0m\u001b[0;34m(\u001b[0m\u001b[0;34m'Variable Importance'\u001b[0m\u001b[0;34m)\u001b[0m\u001b[0;34m\u001b[0m\u001b[0;34m\u001b[0m\u001b[0m\n",
      "\u001b[0;31mAttributeError\u001b[0m: 'numpy.ndarray' object has no attribute 'keys'"
     ]
    },
    {
     "data": {
      "image/png": "[encoded data removed]",
      "text/plain": [
       "<Figure size 576x1296 with 1 Axes>"
      ]
     },
     "metadata": {
      "needs_background": "light"
     },
     "output_type": "display_data"
    }
   ],
   "source": [
    "feature_importance = gbtree.feature_importances_\n",
    "# make importances relative to max importance\n",
    "feature_importance = 100.0 * (feature_importance / feature_importance.max())\n",
    "sorted_idx = np.argsort(feature_importance)\n",
    "pos = np.arange(sorted_idx.shape[0]) + .5\n",
    "# plt.subplot(1, 2, 2)\n",
    "plt.figure(figsize=(8, 18))\n",
    "plt.barh(pos, feature_importance[sorted_idx], align='center')\n",
    "plt.yticks(pos, X_train.keys()[sorted_idx])\n",
    "plt.xlabel('Relative Importance')\n",
    "plt.title('Variable Importance')\n",
    "plt.show()"
   ]
  },
  {
   "cell_type": "code",
   "execution_count": 63,
   "metadata": {},
   "outputs": [
    {
     "name": "stdout",
     "output_type": "stream",
     "text": [
      "Fitting 4 folds for each of 27 candidates, totalling 108 fits\n",
      "[Parallel(n_jobs=-1)]: Using backend LokyBackend with 4 concurrent workers.\n",
      "[Parallel(n_jobs=-1)]: Done   1 tasks      | elapsed:   20.9s\n",
      "[Parallel(n_jobs=-1)]: Done   2 tasks      | elapsed:   21.0s\n",
      "[Parallel(n_jobs=-1)]: Done   3 tasks      | elapsed:   21.0s\n",
      "[Parallel(n_jobs=-1)]: Done   4 tasks      | elapsed:   21.0s\n",
      "[Parallel(n_jobs=-1)]: Done   5 tasks      | elapsed:  1.6min\n",
      "[Parallel(n_jobs=-1)]: Done   6 tasks      | elapsed:  1.6min\n",
      "[Parallel(n_jobs=-1)]: Done   7 tasks      | elapsed:  1.6min\n",
      "[Parallel(n_jobs=-1)]: Done   8 tasks      | elapsed:  1.6min\n",
      "[Parallel(n_jobs=-1)]: Done   9 tasks      | elapsed:  4.3min\n",
      "[Parallel(n_jobs=-1)]: Done  10 tasks      | elapsed:  4.3min\n",
      "[Parallel(n_jobs=-1)]: Done  11 tasks      | elapsed:  4.3min\n",
      "[Parallel(n_jobs=-1)]: Done  12 tasks      | elapsed:  4.3min\n",
      "[Parallel(n_jobs=-1)]: Done  13 tasks      | elapsed:  4.7min\n",
      "[Parallel(n_jobs=-1)]: Done  14 tasks      | elapsed:  4.7min\n",
      "[Parallel(n_jobs=-1)]: Done  15 tasks      | elapsed:  4.7min\n",
      "[Parallel(n_jobs=-1)]: Done  16 tasks      | elapsed:  4.7min\n",
      "[Parallel(n_jobs=-1)]: Done  17 tasks      | elapsed:  6.6min\n",
      "[Parallel(n_jobs=-1)]: Done  18 tasks      | elapsed:  6.6min\n",
      "[Parallel(n_jobs=-1)]: Done  19 tasks      | elapsed:  6.6min\n",
      "[Parallel(n_jobs=-1)]: Done  20 tasks      | elapsed:  6.6min\n",
      "[Parallel(n_jobs=-1)]: Done  21 tasks      | elapsed: 10.4min\n",
      "[Parallel(n_jobs=-1)]: Done  22 tasks      | elapsed: 10.5min\n",
      "[Parallel(n_jobs=-1)]: Done  23 tasks      | elapsed: 10.5min\n",
      "[Parallel(n_jobs=-1)]: Done  24 tasks      | elapsed: 10.5min\n",
      "[Parallel(n_jobs=-1)]: Done  25 tasks      | elapsed: 11.1min\n",
      "[Parallel(n_jobs=-1)]: Done  26 tasks      | elapsed: 11.1min\n",
      "[Parallel(n_jobs=-1)]: Done  27 tasks      | elapsed: 11.1min\n",
      "[Parallel(n_jobs=-1)]: Done  28 tasks      | elapsed: 11.1min\n",
      "[Parallel(n_jobs=-1)]: Done  29 tasks      | elapsed: 13.5min\n",
      "[Parallel(n_jobs=-1)]: Done  30 tasks      | elapsed: 13.5min\n",
      "[Parallel(n_jobs=-1)]: Done  31 tasks      | elapsed: 13.5min\n",
      "[Parallel(n_jobs=-1)]: Done  32 tasks      | elapsed: 13.5min\n",
      "[Parallel(n_jobs=-1)]: Done  33 tasks      | elapsed: 18.3min\n",
      "[Parallel(n_jobs=-1)]: Done  34 tasks      | elapsed: 18.3min\n",
      "[Parallel(n_jobs=-1)]: Done  35 tasks      | elapsed: 18.4min\n",
      "[Parallel(n_jobs=-1)]: Done  36 tasks      | elapsed: 18.4min\n",
      "[Parallel(n_jobs=-1)]: Done  37 tasks      | elapsed: 18.5min\n",
      "[Parallel(n_jobs=-1)]: Done  38 tasks      | elapsed: 18.5min\n",
      "[Parallel(n_jobs=-1)]: Done  39 tasks      | elapsed: 18.6min\n",
      "[Parallel(n_jobs=-1)]: Done  40 tasks      | elapsed: 18.6min\n",
      "[Parallel(n_jobs=-1)]: Done  41 tasks      | elapsed: 19.6min\n",
      "[Parallel(n_jobs=-1)]: Done  42 tasks      | elapsed: 19.6min\n",
      "[Parallel(n_jobs=-1)]: Done  43 tasks      | elapsed: 19.6min\n",
      "[Parallel(n_jobs=-1)]: Done  44 tasks      | elapsed: 19.6min\n",
      "[Parallel(n_jobs=-1)]: Done  45 tasks      | elapsed: 21.7min\n",
      "[Parallel(n_jobs=-1)]: Done  46 tasks      | elapsed: 21.7min\n",
      "[Parallel(n_jobs=-1)]: Done  47 tasks      | elapsed: 21.7min\n",
      "[Parallel(n_jobs=-1)]: Done  48 tasks      | elapsed: 21.7min\n",
      "[Parallel(n_jobs=-1)]: Done  49 tasks      | elapsed: 22.0min\n",
      "[Parallel(n_jobs=-1)]: Done  50 tasks      | elapsed: 22.0min\n",
      "[Parallel(n_jobs=-1)]: Done  51 tasks      | elapsed: 22.0min\n",
      "[Parallel(n_jobs=-1)]: Done  52 tasks      | elapsed: 22.0min\n",
      "[Parallel(n_jobs=-1)]: Done  53 tasks      | elapsed: 23.6min\n",
      "[Parallel(n_jobs=-1)]: Done  54 tasks      | elapsed: 23.6min\n",
      "[Parallel(n_jobs=-1)]: Done  55 tasks      | elapsed: 23.6min\n",
      "[Parallel(n_jobs=-1)]: Done  56 tasks      | elapsed: 23.6min\n",
      "[Parallel(n_jobs=-1)]: Done  57 tasks      | elapsed: 38.1min\n",
      "[Parallel(n_jobs=-1)]: Done  58 tasks      | elapsed: 38.1min\n",
      "[Parallel(n_jobs=-1)]: Done  59 tasks      | elapsed: 38.1min\n",
      "[Parallel(n_jobs=-1)]: Done  60 tasks      | elapsed: 38.1min\n",
      "[Parallel(n_jobs=-1)]: Done  61 tasks      | elapsed: 38.7min\n",
      "[Parallel(n_jobs=-1)]: Done  62 tasks      | elapsed: 38.7min\n",
      "[Parallel(n_jobs=-1)]: Done  63 tasks      | elapsed: 38.7min\n",
      "[Parallel(n_jobs=-1)]: Done  64 tasks      | elapsed: 38.7min\n",
      "[Parallel(n_jobs=-1)]: Done  65 tasks      | elapsed: 41.3min\n",
      "[Parallel(n_jobs=-1)]: Done  66 tasks      | elapsed: 41.4min\n",
      "[Parallel(n_jobs=-1)]: Done  67 tasks      | elapsed: 41.5min\n",
      "[Parallel(n_jobs=-1)]: Done  68 tasks      | elapsed: 41.6min\n",
      "[Parallel(n_jobs=-1)]: Done  69 tasks      | elapsed: 47.1min\n",
      "[Parallel(n_jobs=-1)]: Done  70 tasks      | elapsed: 47.2min\n",
      "[Parallel(n_jobs=-1)]: Done  71 tasks      | elapsed: 47.3min\n",
      "[Parallel(n_jobs=-1)]: Done  72 tasks      | elapsed: 47.4min\n",
      "[Parallel(n_jobs=-1)]: Done  73 tasks      | elapsed: 47.5min\n",
      "[Parallel(n_jobs=-1)]: Done  74 tasks      | elapsed: 47.5min\n",
      "[Parallel(n_jobs=-1)]: Done  75 tasks      | elapsed: 47.6min\n",
      "[Parallel(n_jobs=-1)]: Done  76 tasks      | elapsed: 47.6min\n",
      "[Parallel(n_jobs=-1)]: Done  77 tasks      | elapsed: 48.6min\n",
      "[Parallel(n_jobs=-1)]: Done  78 tasks      | elapsed: 48.6min\n",
      "[Parallel(n_jobs=-1)]: Done  79 tasks      | elapsed: 48.7min\n",
      "[Parallel(n_jobs=-1)]: Done  80 tasks      | elapsed: 48.7min\n",
      "[Parallel(n_jobs=-1)]: Done  81 tasks      | elapsed: 55.2min\n",
      "[Parallel(n_jobs=-1)]: Done  82 tasks      | elapsed: 55.2min\n",
      "[Parallel(n_jobs=-1)]: Done  83 tasks      | elapsed: 55.2min\n",
      "[Parallel(n_jobs=-1)]: Done  84 tasks      | elapsed: 55.3min\n",
      "[Parallel(n_jobs=-1)]: Done  85 tasks      | elapsed: 55.5min\n",
      "[Parallel(n_jobs=-1)]: Done  86 tasks      | elapsed: 55.5min\n",
      "[Parallel(n_jobs=-1)]: Done  87 tasks      | elapsed: 55.6min\n",
      "[Parallel(n_jobs=-1)]: Done  88 tasks      | elapsed: 55.6min\n",
      "[Parallel(n_jobs=-1)]: Done  89 tasks      | elapsed: 57.3min\n",
      "[Parallel(n_jobs=-1)]: Done  90 tasks      | elapsed: 57.3min\n",
      "[Parallel(n_jobs=-1)]: Done  91 tasks      | elapsed: 57.3min\n",
      "[Parallel(n_jobs=-1)]: Done  92 tasks      | elapsed: 57.4min\n",
      "[Parallel(n_jobs=-1)]: Done  93 tasks      | elapsed: 65.8min\n",
      "[Parallel(n_jobs=-1)]: Done  94 tasks      | elapsed: 65.9min\n",
      "[Parallel(n_jobs=-1)]: Done  95 tasks      | elapsed: 65.9min\n",
      "[Parallel(n_jobs=-1)]: Done  96 tasks      | elapsed: 65.9min\n",
      "[Parallel(n_jobs=-1)]: Done  97 tasks      | elapsed: 66.4min\n",
      "[Parallel(n_jobs=-1)]: Done  98 tasks      | elapsed: 66.4min\n",
      "[Parallel(n_jobs=-1)]: Done  99 tasks      | elapsed: 66.4min\n",
      "[Parallel(n_jobs=-1)]: Done 100 tasks      | elapsed: 66.5min\n",
      "[Parallel(n_jobs=-1)]: Done 101 tasks      | elapsed: 69.4min\n",
      "[Parallel(n_jobs=-1)]: Done 104 out of 108 | elapsed: 69.5min remaining:  2.7min\n",
      "[Parallel(n_jobs=-1)]: Done 108 out of 108 | elapsed: 75.6min finished\n"
     ]
    },
    {
     "data": {
      "text/plain": [
       "GridSearchCV(cv=4,\n",
       "             estimator=Pipeline(steps=[('gbtree',\n",
       "                                        GradientBoostingClassifier())]),\n",
       "             n_jobs=-1,\n",
       "             param_grid={'gbtree__learning_rate': [0.01, 0.05, 0.1],\n",
       "                         'gbtree__max_depth': [3, 5, 8],\n",
       "                         'gbtree__n_estimators': [100, 500, 1000]},\n",
       "             scoring='roc_auc', verbose=50)"
      ]
     },
     "execution_count": 63,
     "metadata": {},
     "output_type": "execute_result"
    }
   ],
   "source": [
    "#define the param grid\n",
    "# Parameters of pipelines can be set using ‘__’ separated para\n",
    "from imblearn.pipeline import Pipeline\n",
    "\n",
    "clf_grid = {\n",
    "    \"gbtree__max_depth\":[3,5,8],\n",
    "    'gbtree__learning_rate': [0.01,0.05,0.1],\n",
    "    'gbtree__n_estimators' : [100,500,1000],\n",
    "    }\n",
    "\n",
    "#define the pipeline\n",
    "model_pipe = Pipeline([('gbtree', GradientBoostingClassifier())])\n",
    "\n",
    "#define the classifer\n",
    "clf = GridSearchCV(model_pipe,\n",
    "                   clf_grid,\n",
    "                   n_jobs=-1,\n",
    "                   cv=4, \n",
    "                   verbose=50, \n",
    "                   scoring='roc_auc')\n",
    "\n",
    "\n",
    "#fit to training data\n",
    "clf.fit(X_train, y_train)"
   ]
  },
  {
   "cell_type": "code",
   "execution_count": 64,
   "metadata": {},
   "outputs": [
    {
     "name": "stdout",
     "output_type": "stream",
     "text": [
      "Best model parameters: \n",
      "\n",
      "{'gbtree__learning_rate': 0.01, 'gbtree__max_depth': 3, 'gbtree__n_estimators': 1000}\n",
      "Best model score: \n",
      "\n",
      "0.999661763251597\n"
     ]
    }
   ],
   "source": [
    "print(\"Best model parameters: \\n\")\n",
    "print(clf.best_params_ )\n",
    "print(\"Best model score: \\n\")\n",
    "print(clf.best_score_)"
   ]
  },
  {
   "cell_type": "code",
   "execution_count": null,
   "metadata": {},
   "outputs": [],
   "source": []
  }
 ],
 "metadata": {
  "kernelspec": {
   "display_name": "Python 3",
   "language": "python",
   "name": "python3"
  },
  "language_info": {
   "codemirror_mode": {
    "name": "ipython",
    "version": 3
   },
   "file_extension": ".py",
   "mimetype": "text/x-python",
   "name": "python",
   "nbconvert_exporter": "python",
   "pygments_lexer": "ipython3",
   "version": "3.6.10"
  }
 },
 "nbformat": 4,
 "nbformat_minor": 4
}
